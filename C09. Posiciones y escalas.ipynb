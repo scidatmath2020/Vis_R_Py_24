{
 "cells": [
  {
   "cell_type": "markdown",
   "id": "6181ec91",
   "metadata": {},
   "source": [
    "<img src=\"logo.png\">"
   ]
  },
  {
   "cell_type": "markdown",
   "id": "d96ffc46",
   "metadata": {},
   "source": [
    "# Posiciones y escalas\n",
    "\n",
    "En lecciones previas aprendimos sobre posicionar elementos, por ejemplo textos, en un gráfico. O bien, dar \"escalofríos\" a los datos graficados (como con ``geom_jitter``).\n",
    "\n",
    "En este capítulo veremos mas formas de hacer cambios en posiciones. Además aprenderemos sobre una familia de capas especiales llamadas escalas."
   ]
  },
  {
   "cell_type": "markdown",
   "id": "3edaa5f1",
   "metadata": {},
   "source": [
    "## Posiciones\n",
    "\n",
    "Ya hemos tenido oportunidad de lidiar con el manejo de superposiciones, ya sea corregir utilizando transparencias o escalofríos.\n",
    "\n",
    "Por su parte, cada geometría tiene un parámetro llamado ``position`` el cual también nos permite lidiar con superposiciones. Propiamente dicho, nos permite colocar la representación de cada dato con una posición especial.\n",
    "\n",
    "El parámetro de posición usualmente viene dado por una palabra (como ``position=\"identity\"``), pero veremos que en realidad existen funciones especiales para mejorar su rendimiento."
   ]
  },
  {
   "cell_type": "markdown",
   "id": "dfe2c3ec",
   "metadata": {},
   "source": [
    "### position_identity\n",
    "\n",
    "Este tipo de posición no requiere ningún ajuste. Simplemente sirve para indicar que, de hecho, no se haga ningún ajuste en la posición de los datos. Viene dado por default en algunas geometrías como la de puntos o la de líneas. Por ejemplo, es lo mismo escribir \n",
    "\n",
    "```r\n",
    "ggplot(data=...,mapping=...) +\n",
    "    geom_point(position=position_identity())\n",
    "```\n",
    "\n",
    "que simplemente escribir\n",
    "\n",
    "```r\n",
    "ggplot(data=...,mapping=...) +\n",
    "    geom_point()\n",
    "```\n",
    "\n"
   ]
  },
  {
   "cell_type": "markdown",
   "id": "3fc96c67",
   "metadata": {},
   "source": [
    "### position_jitter\n",
    "\n",
    "Como su nombre lo indica, sirve para dar escalofríos. En este sentido, es lo mismo hacer \n",
    "\n",
    "```r\n",
    "ggplot(data=...,mapping=...) +\n",
    "    geom_point(position=position_jitter())\n",
    "```\n",
    "\n",
    "que simplemente escribir\n",
    "\n",
    "```r\n",
    "ggplot(data=...,mapping=...) +\n",
    "    geom_jitter()\n",
    "```\n",
    "\n",
    "No obstante, `position_jitter()` tiene a su vez tres parámetros: ``seed``, ``width`` y ``height``. El parámetro ``seed`` sirve para fijar la aleatoriedad del escalofrío y siempre es un número. Los parámetros ``width`` y ``height`` son para controlar los movimientos horizontales y verticales.\n",
    "\n",
    "Por ejemplo, ejecutemos el siguiente código:\n",
    "\n",
    "```r\n",
    "ggplot(data=mpg,mapping=aes(x=placas,y=Magnitud)) +\n",
    "    geom_point(position=position_jitter())\n",
    "```\n",
    "\n",
    "<img src=\"im101.png\">\n",
    "\n",
    "Vamos a volver a ejecutarlo:\n",
    "\n",
    "```r\n",
    "ggplot(data=mpg,mapping=aes(x=placas,y=Magnitud)) +\n",
    "    geom_point(position=position_jitter())\n",
    "```\n",
    "\n",
    "<img src=\"im102.png\">\n",
    "\n",
    "Se observa que, aunque el código es el mismo, no se obtiene el mismo gráfico.\n",
    "\n",
    "Esto se debe a que el ruido (el escalofrío) que se le añade a cada dato es un número aleatorio. En cambio, si fijamos la semilla ``seed``, el efecto aleatorio estará controlado."
   ]
  },
  {
   "cell_type": "markdown",
   "id": "4399e27a",
   "metadata": {},
   "source": [
    "```r\n",
    "################################################################\n",
    "#######       En R       #######################################\n",
    "################################################################\n",
    "\n",
    "ggplot(data=mpg,mapping=aes(x=placas,y=Magnitud)) +\n",
    "    geom_point(position=position_jitter(seed=123))\n",
    "```\n",
    "\n",
    "```python\n",
    "################################################################\n",
    "#######    En Python     #######################################\n",
    "################################################################\n",
    "\n",
    "ggplot(data=mpg,mapping=aes(x=placas,y=Magnitud)) +\n",
    "    geom_point(position=position_jitter(random_state=123))\n",
    "```\n",
    "\n",
    "\n",
    "<img src=\"im103.png\">"
   ]
  },
  {
   "attachments": {},
   "cell_type": "markdown",
   "id": "eb9c11b2",
   "metadata": {},
   "source": [
    "### position_nudge()\n",
    "\n",
    "Otra posición importante es la nudge. Como su nombre lo indica, sirve para *empujar* los datos. Esta es especialmente útil con la geometría de texto.\n",
    "\n",
    "```r\n",
    "################################################################\n",
    "#######       En R       #######################################\n",
    "################################################################\n",
    "\n",
    "df = data.frame(x=1:5,y=1:5,lab=c(\"a\",\"b\",\"c\",\"d\",\"e\"))\n",
    "\n",
    "ggplot(data=df,mapping=aes(x=x,y=x,color=\"ligthblue\")) +\n",
    "    geom_point() +\n",
    "    geom_text(mapping=aes(label=lab))\n",
    "```\n",
    "\n",
    "```python\n",
    "################################################################\n",
    "#######    En Python     #######################################\n",
    "################################################################\n",
    "\n",
    "df = pd.DataFrame({\n",
    "    'x': [1, 2, 3, 4, 5],\n",
    "    'y': [1, 2, 3, 4, 5],\n",
    "    'lab': [\"a\", \"b\", \"c\", \"d\", \"e\"]\n",
    "})\n",
    "\n",
    "(ggplot(df, aes(x='x', y='y')) +\n",
    "     geom_point(color=\"lightblue\", size=4) +\n",
    "     geom_text(aes(label='lab')))\n",
    "```\n",
    "\n",
    "<img src=\"im104.png\">\n"
   ]
  },
  {
   "cell_type": "markdown",
   "id": "35fc54b1",
   "metadata": {},
   "source": [
    "Podemos mover los textos de lugar utilizando ``position_nudge``\n",
    "\n",
    "```r\n",
    "ggplot(df, aes(x=x, y=y)) +\n",
    "     geom_point(color=\"lightblue\", size=4) +\n",
    "     geom_text(aes(label=lab),\n",
    "               position = position_nudge(x=0.5,y=0.4))\n",
    "```\n",
    "\n",
    "<img src=\"im105.png\">"
   ]
  },
  {
   "cell_type": "markdown",
   "id": "d4197879",
   "metadata": {},
   "source": [
    "### posiciones stack y fill \n",
    "\n",
    "Hablemos ahora de dos tipos de posiciones íntimamente relacionadas entre sí: ``position_stack`` y ``position_fill``. Estas son muy útiles cuando trabajamos con gráficos de barras (que veremos más adelante). De hecho, la geometría de barras tiene como posición por default a stack (pilas).\n",
    "\n",
    "```r\n",
    "ggplot(data=mpg,mapping=aes(x=factor(cyl),fill=drv)) + #en Python es \"factor(cyl)\"\n",
    "  geom_bar(alpha=0.5)\n",
    "```\n",
    "\n",
    "<img src=\"im106.png\">\n",
    "\n"
   ]
  },
  {
   "cell_type": "markdown",
   "id": "7d9d2914",
   "metadata": {},
   "source": [
    "Cambiemos la posición a identidad\n",
    "\n",
    "```r\n",
    "ggplot(data=mpg,mapping=aes(x=factor(cyl),fill=drv)) + #en Python es \"factor(cyl)\"\n",
    "  geom_bar(alpha=0.5,position=\"identity\")\n",
    "```\n",
    "\n",
    "<img src=\"im107.png\">"
   ]
  },
  {
   "cell_type": "markdown",
   "id": "70fa5362",
   "metadata": {},
   "source": [
    "Por otra parte, `position_fill` nos devolverá nuevamente las barras apiladas pero normalizadas al 100%\n",
    "\n",
    "```r\n",
    "ggplot(data=mpg,mapping=aes(x=factor(cyl),fill=drv)) + #En Python es \"factor(cyl)\"\n",
    "  geom_bar(alpha=0.5,position=position_fill())\n",
    "```\n",
    "\n",
    "<img src=\"im108.png\">\n"
   ]
  },
  {
   "cell_type": "markdown",
   "id": "ef1e2b64",
   "metadata": {},
   "source": [
    "El `position_fill` tiene por default un parámetro llamado ``reverse`` que es falso por defecto. Si se cambia a verdadero, se invierte el orden de las pilas:\n",
    "\n",
    "```r\n",
    "ggplot(data=mpg,mapping=aes(x=factor(cyl),fill=drv)) + \n",
    "  geom_bar(alpha=0.5,position=position_fill(reverse=TRUE)) #En Python es \"reverse=True\"\n",
    "```\n",
    "\n",
    "<img src=\"im109.png\">"
   ]
  },
  {
   "cell_type": "markdown",
   "id": "23025473",
   "metadata": {},
   "source": [
    "Conviene preguntarse cuál es el efecto de utilizar un ``position_stack`` en geometrías como la de puntos o la de líneas."
   ]
  },
  {
   "cell_type": "markdown",
   "id": "2acd3557",
   "metadata": {},
   "source": [
    "### dodge\n",
    "\n",
    "Otra posición muy útil para los gráficos de barras es la de dodge (esquivar). Lo que hace es colocar cada barra junto a la otra.\n",
    "\n",
    "\n",
    "```r\n",
    "ggplot(data=mpg,mapping=aes(x=factor(cyl),fill=drv)) + \n",
    "  geom_bar(alpha=0.5,position=position_dodge()) \n",
    "```\n",
    "\n",
    "<img src=\"im110.png\">"
   ]
  },
  {
   "cell_type": "markdown",
   "id": "87a7e3e2",
   "metadata": {},
   "source": [
    "Podemos especificar dos parámetros para mejorar la presentación: ``width`` y ``preserve``. El parámetro ``width`` controla el ancho del empuje y el parámetro ``preserve`` controla el ancho de las columnas solitarias.\n",
    "\n",
    "```r\n",
    "ggplot(data=mpg,mapping=aes(x=factor(cyl),fill=drv)) + \n",
    "  geom_bar(alpha=0.5,position=position_dodge(width=1.2))\n",
    "```\n",
    "<img src=\"im111.png\">"
   ]
  },
  {
   "cell_type": "markdown",
   "id": "df18f1f0",
   "metadata": {},
   "source": [
    "```r\n",
    "ggplot(data=mpg,mapping=aes(x=factor(cyl),fill=drv)) + \n",
    "  geom_bar(alpha=0.5,position=position_dodge(preserve=\"single\")) #por default es preserve=\"total\"\n",
    "```\n",
    "<img src=\"im112.png\">"
   ]
  },
  {
   "cell_type": "code",
   "execution_count": null,
   "id": "540e4845",
   "metadata": {},
   "outputs": [],
   "source": []
  }
 ],
 "metadata": {
  "kernelspec": {
   "display_name": "Python 3 (ipykernel)",
   "language": "python",
   "name": "python3"
  },
  "language_info": {
   "codemirror_mode": {
    "name": "ipython",
    "version": 3
   },
   "file_extension": ".py",
   "mimetype": "text/x-python",
   "name": "python",
   "nbconvert_exporter": "python",
   "pygments_lexer": "ipython3",
   "version": "3.11.4"
  }
 },
 "nbformat": 4,
 "nbformat_minor": 5
}
