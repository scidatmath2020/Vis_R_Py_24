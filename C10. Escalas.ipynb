{
 "cells": [
  {
   "cell_type": "markdown",
   "id": "4ce7c2f7",
   "metadata": {},
   "source": [
    "<img src=\"logo.png\">"
   ]
  },
  {
   "cell_type": "markdown",
   "id": "c45238dc",
   "metadata": {},
   "source": [
    "# Escalas\n",
    "\n",
    "Las escalas controlan cómo se mapean los datos estéticos a las características visuales de un gráfico, como los colores, tamaños, formas y posiciones de los elementos gráficos. Cuando creas un gráfico, generalmente asignas valores de tus datos a diferentes estéticas (como el eje x, el eje y, el color, etc.). Las escalas son las que determinan cómo se hace esa asignación.\n",
    "\n",
    "De esta manera, las escalas toman tus datos y los convierten en algo que se puede ver, como los colores, tamaños, posiciones, o formas, además de objetos que te permiten interpretar mejor los datos, como las leyendas y los ejes. Estos últimos (ejes y leyendas) también son llamados *guías*.\n",
    "\n",
    "<img src=\"im113.png\">"
   ]
  },
  {
   "cell_type": "markdown",
   "id": "b7905c42",
   "metadata": {},
   "source": [
    "**Una aestética, una escala...** Toda aestética está asociada con una escala. Por ejemplo, notemos lo siguiente: \n",
    "\n",
    "```r\n",
    "class(mpg$cyl) #En Python es mpg[\"cyl\"].dtype\n",
    "```\n",
    "\n",
    "Obtendremos que la columna *número de cilindros* es de tipo números enteros, y por lo tanto se interpretará de manera numérica, lo que implica que se interprete como columna de tipo continuo. De esta manera en el siguiente código:\n",
    "\n",
    "```r\n",
    "ggplot(data=mpg,mapping=aes(x=cty,y=hwy,color=cyl)) + \n",
    "  geom_point()\n",
    "```\n",
    "\n",
    "tendremos que el color se interpretará con una paleta continua.\n",
    "\n",
    "Así, se generan tres escalas, una por cada aestética mapeada:\n",
    "\n",
    "- ``x=cty``: como **cty** es continua, se genera una escala en X continua: ``scale_x_continuous``\n",
    "- ``y=hwy``: como **hwy** es continua, se genera una escala en Y continua: ``scale_y_continuous``\n",
    "- ``color=cyl``: como **cyl** es numérica, entonces es continua y se genera una escala de colores continua: ``scale_color_continuous``\n",
    "\n",
    "De hecho, el código anterior equivale a escribir:\n",
    "\n",
    "```r\n",
    "ggplot(data=mpg,mapping=aes(x=cty,y=hwy,color=cyl)) + \n",
    "  geom_point() +\n",
    "  scale_x_continuous() +\n",
    "  scale_y_continuous() +\n",
    "  scale_color_continuous()\n",
    "```\n",
    "\n",
    "<img src=\"im114.png\">"
   ]
  },
  {
   "cell_type": "markdown",
   "id": "532bdd89",
   "metadata": {},
   "source": [
    "De esta manera, se generan tres guías: el eje horizontal, el eje vertical y la barra de colores:\n",
    "\n",
    "<img src=\"im115.png\">"
   ]
  },
  {
   "cell_type": "markdown",
   "id": "21b988e5",
   "metadata": {},
   "source": [
    "Como las guías son creadas a partir de las escalas, entonces si queremos cambiar algo en alguna guía, debemos cambiar algo en la escala que la creó: el nombre de la guía, el rango de los datos, etc.\n",
    "\n",
    "Es muy importante notar el tipo de columna que se está mapeando. Por ejemplo, **cyl** es una variable numérica y por lo tanto, como hemos dicho, se mapeará como si fuera continua. No obstante, el número de cilindros en nuestra tabla solo es 4,5,6 y 8, así que realmente se debería tratar de una variable discreta (una columna de categorías). De esta manera, si en lugar de tomar el color desde ``cyl`` lo hicieramos desde ``factor(cyl)``, entonces la escala ``scale_color_continuous()`` ya no estaría relacionada con el color de los puntos. En cambio, la escala asociada sería ``scale_color_discrete()``\n",
    "\n",
    "Entonces los siguientes dos códigos harán exactamente lo mismo:\n",
    "\n",
    "```r\n",
    "ggplot(data=mpg,mapping=aes(x=cty,y=hwy,color=factor(cyl))) + \n",
    "  geom_point()\n",
    "```\n",
    "\n",
    "```r\n",
    "ggplot(data=mpg,mapping=aes(x=cty,y=hwy,color=factor(cyl))) + \n",
    "  geom_point() +\n",
    "  scale_x_continuous() +\n",
    "  scale_y_continuous() +\n",
    "  scale_color_discrete()\n",
    "```\n",
    "\n",
    "<img src=\"im116.png\">"
   ]
  },
  {
   "cell_type": "markdown",
   "id": "4c6a30a6",
   "metadata": {},
   "source": [
    "Como sabemos por experiencia, ggplot y plotnine son lo suficientemente inteligentes para crear las escales, y por lo tanto las guías, a través de los mapeos de columnas. No obstante, podemos hacer cambios si lo requerimos especificando algunos parámetros dentro de las escalas.\n",
    "\n",
    "```r\n",
    "ggplot(data=mpg,mapping=aes(x=cty,y=hwy,color=cyl)) + \n",
    "  geom_point() +\n",
    "  scale_color_continuous(name=\"Número de \\ncilindros\")\n",
    "```\n",
    "\n",
    "<img src=\"im117.png\">"
   ]
  },
  {
   "cell_type": "markdown",
   "id": "4e126851",
   "metadata": {},
   "source": [
    "Incluso, **en R** es posible cambiar el tipo de escala:\n",
    "\n",
    "```r\n",
    "ggplot(data=mpg,mapping=aes(x=cty,y=hwy,color=cyl)) + \n",
    "  geom_point() +\n",
    "  scale_color_binned(name=\"Número de \\ncilindros\")\n",
    "```\n",
    "\n",
    "<img src=\"im118.png\">"
   ]
  },
  {
   "cell_type": "markdown",
   "id": "9ebce4f0",
   "metadata": {},
   "source": [
    "Es importante comentar que en caso de tener varias escalas iguales, por default el algoritmo se queda con la información de la última.\n",
    "\n",
    "```r\n",
    "ggplot(data=mpg,mapping=aes(x=cty,y=hwy,color=cyl)) + \n",
    "  geom_point() +\n",
    "  scale_color_continuous(name=\"Número de \\ncilindros\") +\n",
    "  scale_color_continuous(name=\"Pongamos un nombre\")\n",
    "```\n",
    "\n",
    "<img src=\"im119.png\">"
   ]
  },
  {
   "cell_type": "markdown",
   "id": "9b2d564f",
   "metadata": {},
   "source": [
    "## Tipos de escala\n",
    "\n",
    "Existen muchísimas escalas (más de 130), así que aprender todas es una tarea casi imposible. Sin embargo, casi todas sus capas tienen un esquema general: \n",
    "\n",
    "- Todas comienzan con **scale_** \n",
    "- Sigue el nombre de la aestética: ``color_``, ``shape_``, ``x_``, ``y_``, ``alpha_``, ``fill_``, ``linetype_``, etc\n",
    "- El nombre de la escala: ``continuous``, ``discrete``, etc\n",
    "\n",
    "A su vez, podemos clasificar las escalas de manera general en \n",
    "- escalas de posición: usualmente se encargan de los ejes X y Y \n",
    "- escalas de color: se encargan de colores y rellenos\n",
    "- otras escalas."
   ]
  },
  {
   "cell_type": "markdown",
   "id": "ecb4e8bf",
   "metadata": {},
   "source": [
    "## Escalas de posición\n",
    "\n",
    "### Escala de posición continua\n",
    "\n",
    "Cuando mapeamos una columna continua a una posición, utilizamos generalmente las escalas ``scale_x_continuous`` y ``scale_y_continuous``. Aunque también existen ``scale_x_log10``, ``scale_y_log10``, ``scale_x_reverse``, ``scale_y_reverse``, ``scale_x_sqrt`` y ``scale_y_sqrt``.\n",
    "\n",
    "Para entender estas escalas, creemos un gráfico general para ir probandolas:\n",
    "\n",
    "```r\n",
    "p = ggplot(data=mpg,mapping=aes(x=cty,y=hwy)) + geom_point()\n",
    "p\n",
    "```\n",
    "\n",
    "<img src=\"im120.png\">"
   ]
  },
  {
   "cell_type": "markdown",
   "id": "73cfecde",
   "metadata": {},
   "source": [
    "```r\n",
    "######### CAMBIAR EL NOMBRE\n",
    "p + scale_x_continuous(name=\"Rendimiento en \\nciudad\")\n",
    "```\n",
    "\n",
    "<img src=\"im121.png\">\n",
    "\n",
    "```r\n",
    "######### CAMBIAR LAS TICK\n",
    "p + scale_x_continuous(name=\"Rendimiento en \\nciudad\",\n",
    "                       breaks=c(10,20,30))  # en Python es  breaks=[10,20,30]\n",
    "```\n",
    "\n",
    "<img src=\"im122.png\">"
   ]
  },
  {
   "cell_type": "markdown",
   "id": "8c3722d7",
   "metadata": {},
   "source": [
    "```r\n",
    "######### ELIMINAR LOS EJES MENORES\n",
    "p + scale_x_continuous(name=\"Rendimiento en \\nciudad\",\n",
    "                       breaks=c(10,20,30), # en Python es  breaks=[10,20,30]\n",
    "                       minor_breaks = NULL)  # en Python es minor_breaks = None  \n",
    "```\n",
    "\n",
    "<img src=\"im123.png\">"
   ]
  },
  {
   "cell_type": "markdown",
   "id": "9dbea600",
   "metadata": {},
   "source": [
    "```r\n",
    "######### CAMBIAR LOS EJES MENORES\n",
    "p + scale_x_continuous(name=\"Rendimiento en \\nciudad\",\n",
    "                       breaks=c(10,20,30), # en Python es  breaks=[10,20,30]\n",
    "                       minor_breaks = c(15,17,23))  # en Python es minor_breaks = [15,17,23]  \n",
    "```\n",
    "\n",
    "<img src=\"im124.png\">"
   ]
  },
  {
   "cell_type": "markdown",
   "id": "2dc31ee4",
   "metadata": {},
   "source": [
    "```r\n",
    "######### ESPECIFICAR EL NÚMERO DE BREAKS, aunque en realidad hace una aproximación\n",
    "p + scale_x_continuous(name=\"Rendimiento en \\nciudad\",\n",
    "                       n.breaks=5)  # en Python no existe esta opción  \n",
    "```\n",
    "\n",
    "<img src=\"im125.png\">"
   ]
  },
  {
   "cell_type": "markdown",
   "id": "b90179c2",
   "metadata": {},
   "source": [
    "```r\n",
    "######### CAMBIAR LAS ETIQUETAS DE LAS TICKS\n",
    "p + scale_x_continuous(name=\"Rendimiento en \\nciudad\",\n",
    "                       breaks = c(10,20,30), # en Python es breaks = [10,20,30]\n",
    "                       labels = c(\"a\",\"b\",\"c\"))    # en Python es labels=[\"a\",\"b\",\"c\"]\n",
    "```\n",
    "\n",
    "<img src=\"im126.png\">"
   ]
  },
  {
   "cell_type": "markdown",
   "id": "316ac6a0",
   "metadata": {},
   "source": [
    "```r\n",
    "######### CAMBIAR EL RANGO DE LA GRÁFICA\n",
    "p + scale_x_continuous(name=\"Rendimiento en \\nciudad\",\n",
    "                       breaks = c(10,20,30), # en Python es breaks = [10,20,30]\n",
    "                       labels = c(\"a\",\"b\",\"c\"), # en Python es labels=[\"a\",\"b\",\"c\"]\n",
    "                       limits = c(-15,40))    # en Python es limits = [-15,40]\n",
    "```\n",
    "\n",
    "<img src=\"im127.png\">"
   ]
  },
  {
   "cell_type": "markdown",
   "id": "9799e6c7",
   "metadata": {},
   "source": [
    "```r\n",
    "######### CAMBIAR EL RANGO DE LA GRÁFICA SIN ALGUNO DE LOS LÍMITES SUPERIOR O INFERIOR\n",
    "p + scale_x_continuous(name=\"Rendimiento en \\nciudad\",\n",
    "                       breaks = c(10,20,30), # en Python es breaks = [10,20,30]\n",
    "                       labels = c(\"a\",\"b\",\"c\"), # en Python es labels=[\"a\",\"b\",\"c\"]\n",
    "                       limits = c(NA,40))    # en Python es limits = [None,40]\n",
    "```\n",
    "\n",
    "<img src=\"im128.png\">"
   ]
  },
  {
   "cell_type": "markdown",
   "id": "811dc9b4",
   "metadata": {},
   "source": [
    "Otro parámetro interesante es hacer una transformación en el tipo de escala:\n",
    "\n",
    "```r\n",
    "######### CAMBIAR EL RANGO DEL EJE X POR UNA ESCALA LOGARÍTMICA\n",
    "p + scale_x_continuous(name=\"Rendimiento en \\nciudad\",\n",
    "                       trans = \"log10\")\n",
    "```\n",
    "\n",
    "<img src=\"im129.png\">"
   ]
  },
  {
   "cell_type": "markdown",
   "id": "d1b9c6e7",
   "metadata": {},
   "source": [
    "```r\n",
    "######### INVERTIR EL RANGO DEL EJE X \n",
    "p + scale_x_continuous(name=\"Rendimiento en \\nciudad\",\n",
    "                       trans = \"reverse\")\n",
    "```\n",
    "\n",
    "<img src=\"im130.png\">"
   ]
  },
  {
   "cell_type": "markdown",
   "id": "760f841f",
   "metadata": {},
   "source": [
    "### Escala de posición discreta\n",
    "\n",
    "Por otra parte, si mapeamos una posición discreta, tenemos ``scale_x_discrete`` y ``scale_y_discrete``.\n",
    "\n",
    "Definamos un gráfico de base para trabajar:\n",
    "\n",
    "```r\n",
    "q = ggplot(mpg,mapping=aes(x=class,y=hwy)) + geom_point(size=3)\n",
    "q\n",
    "```\n",
    "\n",
    "<img src=\"im131.png\">"
   ]
  },
  {
   "cell_type": "markdown",
   "id": "006a2682",
   "metadata": {},
   "source": [
    "```r\n",
    "######### CAMBIAR LAS TICK\n",
    "q + scale_x_discrete(name=\"Clase\",\n",
    "                     breaks=c(\"compact\",\"midsize\",\"subcompact\"))  # en Python: breaks=[\"compact\",\"midsize\",\"subcompact\"]\n",
    "```\n",
    "\n",
    "<img src=\"im132.png\">"
   ]
  },
  {
   "cell_type": "markdown",
   "id": "9e6f6d1e",
   "metadata": {},
   "source": [
    "```r\n",
    "######### CAMBIAR LAS LÍMITES (que en realidad es lo mismo que cambiar los breaks)\n",
    "q + scale_x_discrete(name=\"Clase\",\n",
    "                     limits=c(\"compact\",\"subcompact\"))  # en Python: limits=[\"compact\",\"subcompact\"]\n",
    "```\n",
    "\n",
    "<img src=\"im133.png\">"
   ]
  },
  {
   "cell_type": "markdown",
   "id": "f26268ba",
   "metadata": {},
   "source": [
    "```r\n",
    "######### CAMBIAR LAS LABELS \n",
    "q + scale_x_discrete(name=\"Clase\",\n",
    "                     labels=c(\"a\",\"b\",\"c\",\"d\",\"e\",\"f\",\"g\"))  # en Python: labels=[\"a\",\"b\",\"c\",\"d\",\"e\",\"f\",\"g\"]\n",
    "```\n",
    "\n",
    "<img src=\"im134.png\">"
   ]
  },
  {
   "cell_type": "markdown",
   "id": "ef043ac2",
   "metadata": {},
   "source": [
    "## Escalas de color\n",
    "\n",
    "### Escala de color continua\n",
    "\n",
    "Si la variable por la que iluminemos es continua, utilizamos ``scale_color_continuous`` o ``scale_fill_continuous``, además de las que ya hemos tenido oportunidad de trabajar: ``scale_..._gradient``, ``scale_..._gradient2`` y ``scale_..._gradientn``. \n",
    "\n",
    "```r\n",
    "ggplot(data=mpg, mapping=aes(x=cty,y=hwy,color=cyl)) +\n",
    "    geom_point()\n",
    "```\n",
    "\n",
    "<img src=\"im135.png\">"
   ]
  },
  {
   "cell_type": "markdown",
   "id": "a1d284ea",
   "metadata": {},
   "source": [
    "### Escala de color discreta\n",
    "\n",
    "Si la variable por la que iluminemos es discreta, utilizamos ``scale_color_discrete`` o ``scale_fill_discrete``. Pero también contamos con ``scale_..._hue`` y ``scale_..._grey``.\n",
    "\n",
    "```r\n",
    "ggplot(data=mpg, mapping=aes(x=cty,y=hwy,color=factor(cyl))) +\n",
    "    geom_point() +\n",
    "    scale_color_discrete()\n",
    "```\n",
    "\n",
    "<img src=\"im136.png\">"
   ]
  },
  {
   "cell_type": "markdown",
   "id": "f428f51f",
   "metadata": {},
   "source": [
    "## Escalas manuales\n",
    "\n",
    "Todas las escalas discretas anteriores se pueden *programar* manualmente: ``scale_..._manual``. Esto es especialmente útil cuando quieres especificar tus propio conjunto de mapeos desde los datos. Por ejemplo:\n",
    "\n",
    "- Especificar tus propios colores en una escala discreta.\n",
    "\n",
    "```r\n",
    "ggplot(data=mpg, mapping=aes(x=cty,y=hwy,color=factor(cyl))) + \n",
    "    geom_point() + \n",
    "    scale_color_manual(values = c(\"red\",\"orange\",\"pink\",\"blue\"))  # en Python es values = [\"red\",\"orange\",\"pink\",\"blue\"]\n",
    "```\n",
    "\n",
    "<img src=\"im137.png\">\n",
    "\n",
    "- Especificar tus propios niveles de transparencia.\n",
    "\n",
    "```r\n",
    "ggplot(data=mpg, mapping=aes(x=cty,y=hwy,color=factor(cyl),alpha=factor(cyl))) + \n",
    "    geom_point() + \n",
    "    scale_color_manual(values = c(\"red\",\"orange\",\"pink\",\"blue\")) + # Python: values = [\"red\",\"orange\",\"pink\",\"blue\"]\n",
    "    scale_alpha_manual(values = c(0.25,0.50,0.75,1)) # en Python es values = [0.25,0.50,0.75,1]\n",
    "```\n",
    "\n",
    "<img src=\"im138.png\">\n",
    "\n",
    "- Especificar tus propios niveles de forma.\n",
    "\n",
    "```r\n",
    "ggplot(data=mpg, mapping=aes(x=cty,y=hwy,color=factor(cyl),shape=factor(cyl))) + \n",
    "    geom_point() + \n",
    "    scale_color_manual(values = c(\"red\",\"orange\",\"pink\",\"blue\")) + # Python: values = [\"red\",\"orange\",\"pink\",\"blue\"]\n",
    "    scale_shape_manual(values = c(5,7,8,9)) # en Python es values = [5,7,8,9]\n",
    "```\n",
    "\n",
    "<img src=\"im139.png\">\n",
    "\n",
    "```r\n",
    "ggplot(data=mpg, mapping=aes(x=cty,y=hwy,color=factor(cyl),shape=factor(cyl))) + \n",
    "    geom_point() + \n",
    "    scale_color_manual(values = c(\"red\",\"orange\",\"pink\",\"blue\")) + # Python: values = [\"red\",\"orange\",\"pink\",\"blue\"]\n",
    "    scale_shape_manual(values = c(\"x\",\"o\",\"*\",5)) # en Python es values = [\"x\",\"o\",\"*\",5]\n",
    "```\n",
    "\n",
    "<img src=\"im140.png\">\n",
    "\n",
    "- Etc."
   ]
  },
  {
   "cell_type": "markdown",
   "id": "bd6ba347",
   "metadata": {},
   "source": [
    "## Escalas de identidad\n",
    "\n",
    "Una manera interesante de hacer mapeos es cuando nuestra tabla ya contiene la información como la queremos mapear. Por ejemplo, considera la siguiente tabla:\n",
    "\n",
    "| col1 | col2 | sexo | color_sexo |\n",
    "|------|------|------|------------|\n",
    "|  1   | 0.28 |  h   |    blue    |\n",
    "|  2   | 0.78 |  m   |    red     |\n",
    "|  3   | 0.40 |  m   |    red     |\n",
    "|  4   | 0.88 |  h   |    blue    |\n",
    "|  5   | 0.94 |  h   |    blue    |\n",
    "|  6   | 0.04 |  m   |    red     |\n",
    "\n",
    "```r\n",
    "################################################################\n",
    "#######       En R       #######################################\n",
    "################################################################\n",
    "\n",
    "mis_datos = data.frame(col1 = 1:6,\n",
    "                       col2 = c(0.28,0.78,0.40,0.88,0.94,0.04),\n",
    "                       sexo = c(\"h\",\"m\",\"m\",\"h\",\"h\",\"m\"),\n",
    "                       color_sexo = c(\"blue\",\"red\",\"red\",\"blue\",\"blue\",\"red\"))\n",
    "\n",
    "mis_datos\n",
    "```\n",
    "\n",
    "```python\n",
    "################################################################\n",
    "#######    En Python     #######################################\n",
    "################################################################\n",
    "\n",
    "mis_datos = pd.DataFrame({\n",
    "    'col1': [1, 2, 3, 4, 5, 6],\n",
    "    'col2': [0.28, 0.78, 0.40, 0.88, 0.94, 0.04],\n",
    "    'sexo': ['h', 'm', 'm', 'h', 'h', 'm'],\n",
    "    'color_sexo': ['blue', 'red', 'red', 'blue', 'blue', 'red']\n",
    "})\n",
    "\n",
    "mis_datos\n",
    "```\n",
    "\n",
    "Nota que la columna ``color_sexo`` contiene los colores con los que queremos iluminar, los cuales dependen de la columna ``sexo``:\n",
    "\n",
    "```r\n",
    "ggplot(data=mis_datos,mapping=aes(x=col1,y=col2,color=color_sexo)) + geom_point()\n",
    "```\n",
    "\n",
    "<img src=\"im141.png\">"
   ]
  },
  {
   "cell_type": "markdown",
   "id": "3ecc817b",
   "metadata": {},
   "source": [
    "Pero, **utilizando una escala de color identidad**, podemos indicarle que tome los colores explícitamente desde dicha columna:\n",
    "\n",
    "```r\n",
    "ggplot(data=mis_datos,mapping=aes(x=col1,y=col2,color=color_sexo)) + \n",
    "  geom_point() +\n",
    "  scale_color_identity()  \n",
    "```\n",
    "\n",
    "<img src=\"im142.png\">"
   ]
  },
  {
   "cell_type": "markdown",
   "id": "2bca100d",
   "metadata": {},
   "source": [
    "No obstante, por default no se coloca la leyenda. Para colocarla y customizarla a nuestro gusto, la alimentamos con parámetros:\n",
    "\n",
    "```r\n",
    "ggplot(data=mis_datos,mapping=aes(x=col1,y=col2,color=color_sexo)) + \n",
    "  geom_point() +\n",
    "  scale_color_identity(guide=\"legend\",\n",
    "                       name=\"Sexo\",\n",
    "                       labels=c(\"Hombre\",\"Mujer\"))  # En Python: labels=[\"Hombre\",\"Mujer\"]\n",
    "```\n",
    "\n",
    "<img src=\"im143.png\">"
   ]
  }
 ],
 "metadata": {
  "kernelspec": {
   "display_name": "Python 3 (ipykernel)",
   "language": "python",
   "name": "python3"
  },
  "language_info": {
   "codemirror_mode": {
    "name": "ipython",
    "version": 3
   },
   "file_extension": ".py",
   "mimetype": "text/x-python",
   "name": "python",
   "nbconvert_exporter": "python",
   "pygments_lexer": "ipython3",
   "version": "3.11.4"
  }
 },
 "nbformat": 4,
 "nbformat_minor": 5
}
