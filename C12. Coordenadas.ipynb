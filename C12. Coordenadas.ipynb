{
 "cells": [
  {
   "cell_type": "markdown",
   "id": "5e09c70d",
   "metadata": {},
   "source": [
    "![imagenes](logo.png)"
   ]
  },
  {
   "cell_type": "markdown",
   "id": "a92b01c7",
   "metadata": {},
   "source": [
    "# Coordenadas\n",
    "\n",
    "Cada vez que realizamos una gráfica, por defecto tenemos sistemas de coordenadas inherentes a las gráficas. Los sistemas de coordenadas los podemos manipular mediante una nueva capa: ``coord_...``\n",
    "\n",
    "El sistema de coordenadas indica cómo las estéticas X y Y se combinan junto con el parámetro de posición. \n",
    "\n",
    "En **ggplot2** de **R** existen dos sistemas generales de coordenadas: ``coord_cartesian`` y ``coord_polar`` (en **plotnine** de **Python** únicamente existe ``coord_cartesian`` por razones que veremos más adelante).\n",
    "\n",
    "En cualquier caso, las coordenadas cartesianas pueden ser modificadas con algunas funciones como ``coord_flip``, ``coord_fixed`` y ``coord_trans``."
   ]
  },
  {
   "cell_type": "markdown",
   "id": "f0f8e1be",
   "metadata": {},
   "source": [
    "## Coordenadas cartesianas\n",
    "\n",
    "### coord_cartesian()\n",
    "\n",
    "Hagamos un gráfico base con **mpg.csv**:\n",
    "\n",
    "```r\n",
    "p = ggplot(data=mpg,mapping=aes(x=cty,y=hwy)) + geom_point() + geom_smooth()\n",
    "p\n",
    "```\n",
    "\n",
    "![imagenes](im160.png)"
   ]
  },
  {
   "cell_type": "markdown",
   "id": "4cd8423c",
   "metadata": {},
   "source": [
    "Como dijimos, el sistema coordenado que tenemos por default es ``coord_cartesian``, de modo que el siguiente código no hará nada diferente:\n",
    "\n",
    "```r\n",
    "p + coord_cartesian()\n",
    "```\n",
    "\n",
    "Los parámetros que podemos modificar son ``xlim``, ``ylim``, ``expand`` y ``clip``.\n",
    "\n",
    "Los parámetros ``xlim`` y ``ylim`` sirven, como ya hemos visto, para realizar \"zoom\" a nuestro gráfico. De hecho, sabemos que esto lo podemos controlar desde las escalas.\n",
    "\n",
    "No obstante, existe una diferencia sutil pero importante al considerar hacer zoom con las escalas o con las coordenadas cartesianas. Consideremos los siguientes códigos. Hagamos un zoom para observar los datos de ``cty`` entre 25 y 37.5:\n",
    "\n",
    "```r\n",
    "p + scale_x_continuous(limits=c(25,36))\n",
    "```\n",
    "\n",
    "![imagenes](im161.png)"
   ]
  },
  {
   "cell_type": "markdown",
   "id": "defd04ef",
   "metadata": {},
   "source": [
    "Observa cómo la franja de datos se ha transformado.\n",
    "\n",
    "**Cuando cambiamos los límites de visualización mediante las escalas, realmente no estamos haciendo un zoom, sino que nos estamos deshaciendo de los datos que quedan fuera de los límites, como si no existieran**.\n",
    "\n",
    "En cambio, si hacemos el zoom mediante las coordenadas, obtenemos\n",
    "\n",
    "```r\n",
    "p + coord_cartesian(xlim=c(25,36))\n",
    "```\n",
    "\n",
    "![imagenes](im162.png)\n",
    "\n",
    "Esto es realmente un zoom"
   ]
  },
  {
   "cell_type": "markdown",
   "id": "d2a99023",
   "metadata": {},
   "source": [
    "Por otra parte, tenemos el parámetro ``expand``.\n",
    "\n",
    "Este viene, por default, como verdadero. Sirve para añadir una pequeña diferencia de espacio entre los puntos y los ejes, de tal manera que nos aseguramos de que todos los datos queden dentro del espacio de graficado. \n",
    "\n",
    "Por lo tanto, si lo cambiamos a falso, se eliminan dichos espacios:\n",
    "\n",
    "```r\n",
    "p + coord_cartesian(expand=FALSE)\n",
    "```\n",
    "\n",
    "![imagenes](im163.png)\n"
   ]
  },
  {
   "cell_type": "markdown",
   "id": "2af5940f",
   "metadata": {},
   "source": [
    "Como puedes observar, algunos puntos se cortan (los que están *en los extremos*). No obstante, en **R**, el parámetro ``clip`` nos permite controlar este corte:\n",
    "\n",
    "```r\n",
    "p + coord_cartesian(expand=FALSE,clip=\"off\")\n",
    "```\n",
    "\n",
    "![imagenes](im164.png)"
   ]
  },
  {
   "cell_type": "markdown",
   "id": "9a01dd5d",
   "metadata": {},
   "source": [
    "### coord_flip()\n",
    "\n",
    "Ya hemos tenido oportunidad de trabajar con `coord_flip()`. Recordemos Nuestro gráfico de población de las entidades de México:\n",
    "\n",
    "```r\n",
    "poblacion = read.csv(\"poblacion_superficie_mexico_2020.csv\",fileEncoding=\"utf8\")\n",
    "\n",
    "ggplot(data=poblacion, mapping=aes(x=Entidad,y=Poblacion)) +\n",
    "  geom_col() +\n",
    "  coord_flip()\n",
    "```\n",
    "\n",
    "<img src=\"im166.png\">\n",
    "\n",
    "Probablemente, en este caso, te interese quitar el espacio entre las barras y los nombres. Por lo tanto, nuevamente hacemos uso de ``expand``\n",
    "\n",
    "```r\n",
    "##### en Python es poblacion = pd.read_csv(\"poblacion_superficie_mexico_2020.csv\", encoding=\"utf8\")\n",
    "poblacion = read.csv(\"poblacion_superficie_mexico_2020.csv\",fileEncoding=\"utf8\")\n",
    "\n",
    "ggplot(data=poblacion, mapping=aes(x=Entidad,y=Poblacion)) +\n",
    "  geom_col() +\n",
    "  coord_flip(expand=FALSE)  # en Python es expand=False\n",
    "```\n",
    "\n",
    "![imagenes](im165.png)"
   ]
  },
  {
   "cell_type": "markdown",
   "id": "519a1721",
   "metadata": {},
   "source": [
    "### coord_fixed()\n",
    "\n",
    "Esta capa ajusta el radio de la gráfica. Se asegura de que lo mostrado se mantenga de manera proporcional entre los ejes sin importar el tamaño en que guardes el gráfico.\n",
    "\n",
    "Tomemos el siguiente ejemplo:\n",
    "\n",
    "```r\n",
    "mi_data = data.frame(colx=1:10,coly=1:0) #en Python es mi_data = p.data_frame({\"colx\":range(11),\"coly\":range(11)})\n",
    "\n",
    "ggplot(data=mi_data,mapping=aes(x=colx,y=coly)) + geom_point()\n",
    "\n",
    "```\n",
    "![imagenes](im167.png)\n"
   ]
  },
  {
   "cell_type": "markdown",
   "id": "4a0f87f9",
   "metadata": {},
   "source": [
    "Añadamos una capa de tipo ``coord_fixed()``. En ella tenemos un parámetro llamado ``ratio``, que signicia **y/x**, y que por default vale 1: \n",
    "\n",
    "```r\n",
    "ggplot(data=mi_data,mapping=aes(x=colx,y=coly)) + \n",
    "    geom_point() +\n",
    "    coord_fixed()\n",
    "```\n",
    "![imagenes](im168.png)\n"
   ]
  },
  {
   "cell_type": "markdown",
   "id": "83f9aff7",
   "metadata": {},
   "source": [
    "Como puedes ver, se nos forma un enrejado cuadrado. Esto se debe al ``ratio=1``.\n",
    "\n",
    "Sin embargo, el ``ratio=1`` no siempre actúa de la misma manera en todos los gráficos. En este caso en particular, se debió a que tanto los valores de la columna ``colx`` como de la columna ``coly`` van de 0 a 10.\n",
    "\n",
    "En realidad, ``ratio =1`` significa que 1cm en el eje X tendrá el mismo rango de datos que 1cm en el eje Y. Esto significa que una unidad en el eje X se representará visualmente con la misma longitud que una unidad en el eje Y, independientemente de las escalas reales de los datos.\n",
    "\n",
    "```r\n",
    "df = data.frame(colx = c(1, 2, 3, 4, 5),\n",
    "                 coly = c(1, 4, 9, 16, 25))\n",
    "\n",
    "ggplot(df, aes(x = colx, y = coly)) +\n",
    "  geom_point() +\n",
    "  coord_fixed()\n",
    "```\n",
    "\n",
    "![imagenes](im169.png)\n",
    "\n",
    "En este ejemplo, ``coord_fixed()`` asegura que la distancia visual en el gráfico sea la misma para las unidades tanto en el eje x como en el eje y; es decir, un cuadrado en el gráfico será un cuadrado real, no un rectángulo deformado."
   ]
  },
  {
   "cell_type": "markdown",
   "id": "3a5a065e",
   "metadata": {},
   "source": [
    "## coord_polar()\n",
    "\n",
    "En **R** también es posible trabajar con coordenadas polares.\n",
    "\n",
    "```r\n",
    "p = ggplot(data=mpg,mapping=aes(x=factor(cyl),fill=factor(cyl))) + geom_bar()\n",
    "```\n",
    "\n",
    "![imagenes](im170.png)"
   ]
  },
  {
   "cell_type": "markdown",
   "id": "72ea40d9",
   "metadata": {},
   "source": [
    "Convirtiendo a coordenadas polares:\n",
    "\n",
    "```r\n",
    "p + coord_polar()\n",
    "```\n",
    "\n",
    "![imagenes](im171.png)"
   ]
  },
  {
   "cell_type": "markdown",
   "id": "b8cbcebd",
   "metadata": {},
   "source": [
    "Los parámetros de ``coord_polar()`` son ``theta`` (con default ``theta=\"x\"``), ``direction`` (con default ``direction=1``) y ``start`` (con default ``start=0``):\n",
    "\n",
    "```r\n",
    "p + coord_polar(theta=\"y\")\n",
    "```\n",
    "\n",
    "![imagenes](im172.png)\n",
    "\n",
    "```r\n",
    "p + coord_polar(theta=\"y\",direction=-1)\n",
    "```\n",
    "\n",
    "![imagenes](im173.png)\n",
    "\n",
    "```r\n",
    "p + coord_polar(theta=\"y\",direction=-1,start=0.3)\n",
    "```\n",
    "\n",
    "![imagenes](im174.png)"
   ]
  },
  {
   "cell_type": "markdown",
   "id": "b5d13bb6",
   "metadata": {},
   "source": [
    "Con esto en mente, podemos hacer gráficos de pastel:\n",
    "\n",
    "```r\n",
    "ggplot(data=mpg,mapping=aes(x=1,fill=factor(cyl))) + \n",
    "    geom_bar(position=position_fill()) + \n",
    "    coord_polar(theta=\"y\")\n",
    "```\n",
    "\n",
    "![imagenes](im175.png)"
   ]
  }
 ],
 "metadata": {
  "kernelspec": {
   "display_name": "Python 3 (ipykernel)",
   "language": "python",
   "name": "python3"
  },
  "language_info": {
   "codemirror_mode": {
    "name": "ipython",
    "version": 3
   },
   "file_extension": ".py",
   "mimetype": "text/x-python",
   "name": "python",
   "nbconvert_exporter": "python",
   "pygments_lexer": "ipython3",
   "version": "3.11.4"
  }
 },
 "nbformat": 4,
 "nbformat_minor": 5
}
