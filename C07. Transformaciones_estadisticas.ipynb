{
 "cells": [
  {
   "cell_type": "markdown",
   "id": "2182c9c6",
   "metadata": {},
   "source": [
    "<img src=\"logo.png\">"
   ]
  },
  {
   "cell_type": "markdown",
   "id": "c79c4771",
   "metadata": {},
   "source": [
    "# Transformaciones estadísticas\n",
    "\n",
    "Todas las geometrías (las que hemos visto y las que no) contienen un parámetro interno con el cual no hemos trabajao. El parámetro **stat**, que siempre tiene algún valor por default.\n",
    "\n",
    "Este se refiere a qué transformación de los datos se hará con ella.\n",
    "\n",
    "Por ejemplo, ``geom_point`` tiene el parámetro ``stat`` con valor por default ``\"identity\"``: visualizemos el consumo de combustible en carretera, hwy, por clase de automóvil:\n",
    "\n",
    "```r\n",
    "ggplot(data=mpg) +\n",
    "    geom_point(mapping=aes(x=class,y=hwy),\n",
    "               stat=\"identity\")\n",
    "```\n",
    "\n",
    "<img src=\"im59.png\">"
   ]
  },
  {
   "cell_type": "markdown",
   "id": "4ab6819d",
   "metadata": {},
   "source": [
    "Observamos que se obtiene lo mismo especificando el stat con \"identity\" que sin haber utilizado el stat. Pero si en lugar de querer ver los puntos como tal queremos ver cuántos puntos hay en cada clase, podemos cambiar la transformación estadística por un conteo:\n",
    "\n",
    "```r\n",
    "ggplot(data=mpg) +\n",
    "    geom_point(mapping=aes(x=class),\n",
    "               stat=\"count\")\n",
    "```\n",
    "\n",
    "<img src=\"im60.png\">"
   ]
  },
  {
   "cell_type": "markdown",
   "id": "ba720453",
   "metadata": {},
   "source": [
    "De esta manera, tenemos dos formas de pedirle a ggplot que nos realice el gráfico:\n",
    "\n",
    "- **Con capas geométricas**: Utilizando directamente la geometría que nos interesa.\n",
    "- **Con capas de transformación**: Haciendo explícita la transformación estadística que queremos."
   ]
  },
  {
   "cell_type": "markdown",
   "id": "e9846bf1",
   "metadata": {},
   "source": [
    "## Estadísticas y geometrías\n",
    "\n",
    "Por una parte, las geometrías controlan la manera en que queremos que los datos se vean, en tanto las estadísticas controlan la manera en que los datos son transformados.\n",
    "\n",
    "Por ejemplo, ``geom_line`` muestra los datos como líneas y ``geom_point()`` lo hace como puntos. \n",
    "\n",
    "La cuestión es que toda geometría tiene asociada una transformación estadística por default. Para ver cuál es la transformación que se tiene por default siempre puedes ver la documentación:\n",
    "\n",
    "```r\n",
    "?geom_point  \n",
    "?geom_line \n",
    "?geom_smooth \n",
    "```\n",
    "\n",
    "La transformación \"identity\" **no realiza** transformaciones de los datos. Los presenta tal como vienen. Esa es la razón por la cual cuando hacemos un ``geom_point()`` o un ``geom_line()`` los puntos y las líneas aparecen exactamente como están en los datos. Por otra parte, cuando aplicamos un ``geom_smooth()`` los datos se presentan transformados \"suavemente\"\n",
    "\n",
    "```r\n",
    "ggplot(data=mpg,mapping=aes(x=cty,y=hwy)) +\n",
    "    geom_point() +\n",
    "    geom_line() +\n",
    "    geom_smooth()     \n",
    "```\n",
    "\n",
    "<img src=\"im61.png\">"
   ]
  },
  {
   "cell_type": "markdown",
   "id": "380a359a",
   "metadata": {},
   "source": [
    "Hagamos un cambio en la transformación de ``geom_point``\n",
    "\n",
    "```r\n",
    "ggplot(data=mpg,mapping=aes(x=cty,y=hwy)) +\n",
    "    geom_point(stat=\"smooth\",color=\"blue\") +\n",
    "    geom_point(alpha=0.2)\n",
    "```\n",
    "\n",
    "<img src=\"im62.png\">\n"
   ]
  },
  {
   "cell_type": "markdown",
   "id": "7bfdab58",
   "metadata": {},
   "source": [
    "O bien, ahora modiquemos la transformación de ``geom_smooth``\n",
    "\n",
    "```r\n",
    "ggplot(data=mpg,mapping=aes(x=cty,y=hwy)) +\n",
    "    geom_smooth(stat=\"identity\",color=\"blue\") +\n",
    "    geom_smooth()\n",
    "```\n",
    "\n",
    "<img src=\"im63.png\">"
   ]
  },
  {
   "cell_type": "markdown",
   "id": "adf49489",
   "metadata": {},
   "source": [
    "Los ejemplos anteriores, y todos los que hemos hecho desde la primera sesión, han obedecido a la manera de capas geométricas para indicarle a ggplot cómo queremos el gráfico.\n",
    "\n",
    "Pero como dijimos, también es posible hacerlo utilzando capas estadísticas.\n",
    "\n",
    "De esta forma, así como cada geometría tiene asociada una transformación estadística por default, al revés también se cumple: cada transformación estadística tiene una geometría asociada por default:\n",
    "\n",
    "- ``stat_smooth`` tiene asociada la geometría ``geom_smooth``\n",
    "- ``stat_count`` tiene asociada la geometría ``geom_bar``\n",
    "- ``stat_sum`` tiene asociada la geometría ``geom_point``\n",
    "\n",
    "Por ejemplo:\n",
    "\n",
    "```r\n",
    "ggplot(data=mpg,mapping=aes(x=cty,y=hwy)) +\n",
    "    stat_smooth()\n",
    "```\n",
    "\n",
    "<img src=\"im64.png\">\n",
    "\n",
    "**Observación:** así como las capas geométricas aceptan la data o las aestéticas por dentro, las capas estadísticas también lo aceptan."
   ]
  },
  {
   "cell_type": "markdown",
   "id": "2e19699f",
   "metadata": {},
   "source": [
    "Veamos otro ejemplo:\n",
    "\n",
    "```r\n",
    "ggplot(data=mpg) +\n",
    "    stat_count(mapping=aes(x=cty))\n",
    "```\n",
    "\n",
    "<img src=\"im65.png\">\n"
   ]
  },
  {
   "cell_type": "markdown",
   "id": "e59f2ecf",
   "metadata": {},
   "source": [
    "O bien, utilizando la estadística de suma:\n",
    "\n",
    "```r\n",
    "ggplot(data=mpg) +\n",
    "    stat_sum(mapping=aes(x=cty,y=hwy))\n",
    "```\n",
    "\n",
    "<img src=\"im66.png\">"
   ]
  },
  {
   "cell_type": "markdown",
   "id": "2a19a84f",
   "metadata": {},
   "source": [
    "Esta transformación reemplaza los puntos superpuestos con un punto cuyo tamaño refleja el número de observaciones en ese punto. Cuantos más puntos superpuestos haya en una coordenada específica, mayor será el tamaño del símbolo. Es comúnmente utilizada con gráficos de puntos cuando los datos tienen muchas observaciones con los mismos valores de x e y"
   ]
  },
  {
   "cell_type": "markdown",
   "id": "52ac45dc",
   "metadata": {},
   "source": [
    "## Transformaciones interesantes\n",
    "\n",
    "Pasemos ahora a ver algunas transformaciones de interés.\n",
    "\n",
    "### stat_smooth (geom_smooth)\n",
    "\n",
    "Sirve cuando queremos visualizar de manera \"suave\" nuestros datos.\n",
    "\n",
    "```r\n",
    "#### Con geom_smooth\n",
    "ggplot(data=mpg,mapping=aes(x=cty,y=hwy)) +\n",
    "    geom_point() +\n",
    "    geom_smooth(color=\"blue\")\n",
    "```\n",
    "\n",
    "```r\n",
    "#### Con stat_smooth\n",
    "ggplot(data=mpg,mapping=aes(x=cty,y=hwy)) +\n",
    "    geom_point() +\n",
    "    stat_smooth(color=\"blue\")\n",
    "```\n",
    "\n",
    "<img src=\"im67.png\">"
   ]
  },
  {
   "cell_type": "markdown",
   "id": "a3940588",
   "metadata": {},
   "source": [
    "Trabajemos ahora con la tabla **oxboys.csv** de nuestro repositorio de datos.\n",
    "\n",
    "```r\n",
    "ggplot(data=oxboys,\n",
    "       mapping=aes(x=edad,y=estatura,group=sujeto)) +\n",
    "  geom_line() +\n",
    "  geom_point()\n",
    "```\n",
    "\n",
    "<img src=\"im68.png\">"
   ]
  },
  {
   "cell_type": "markdown",
   "id": "52052e92",
   "metadata": {},
   "source": [
    "Añadamos una geometría suave:\n",
    "\n",
    "```r\n",
    "ggplot(data=oxboys,\n",
    "       mapping=aes(x=edad,y=estatura,group=sujeto)) +\n",
    "  geom_line(color=\"blue\") +\n",
    "  geom_point() +\n",
    "  geom_smooth(color=\"red\") +\n",
    "```\n",
    "\n",
    "<img src=\"im69.png\">"
   ]
  },
  {
   "cell_type": "markdown",
   "id": "23e61260",
   "metadata": {},
   "source": [
    "Dicha geometría se está tomando los valores por defecto de la función ``ggplot``. Si cambiamos de lugar el grupo, obtendremos una \"suavizacion conjunta\" de todos los datos.\n",
    "\n",
    "```r\n",
    "ggplot(data=oxboys,\n",
    "       mapping=aes(x=edad,y=estatura)) +\n",
    "  geom_line(mapping=aes(group=sujeto),\n",
    "            color=\"blue\") +\n",
    "  geom_point(mapping=aes(group=sujeto)) +\n",
    "  geom_smooth(color=\"red\") +\n",
    "```\n",
    "\n",
    "<img src=\"im70.png\">"
   ]
  },
  {
   "cell_type": "markdown",
   "id": "70c39f8a",
   "metadata": {},
   "source": [
    "### stat_unique (geom_point)\n",
    "\n",
    "La transformación \"unique\" sirve para evitar repeticiones:\n",
    "\n",
    "```r\n",
    "#### Con valores repetidos:\n",
    "ggplot(data=mpg,mapping=aes(x=class,y=hwy)) +\n",
    "    geom_point(alpha=0.3)\n",
    "```\n",
    "\n",
    "<img src=\"im71.png\">"
   ]
  },
  {
   "cell_type": "markdown",
   "id": "793eadd2",
   "metadata": {},
   "source": [
    "Sin valores repetidos (dos maneras):\n",
    "\n",
    "```r\n",
    "#### Sin valores repetidos desde el estadístico de la geometría\n",
    "ggplot(data=mpg,mapping=aes(x=class,y=hwy)) +\n",
    "    geom_point(alpha=0.3,\n",
    "               stat=\"unique\")\n",
    "```\n",
    "\n",
    "```r\n",
    "#### Sin valores repetidos desde una capa estadística\n",
    "ggplot(data=mpg,mapping=aes(x=class,y=hwy)) +\n",
    "    stat_unique(alpha=0.3)\n",
    "```\n",
    "\n",
    "<img src=\"im72.png\">"
   ]
  },
  {
   "cell_type": "markdown",
   "id": "a2954c0b",
   "metadata": {},
   "source": [
    "### stat_summary (geom_pointrange)\n",
    "\n",
    "Esta toma como input una función, como el promedio, el máximo, el mínimo, etc. de un conjunto de valores, y lo calcula para ese conjunto de puntos. Por defecto, la función que tiene es ``mean_se``: calcula la media y la desviación estándar, y luego muestra la media - desviación y media + desviación.\n",
    "\n",
    "La geometría que utiliza es la ``geom_pointrange`` que básicamente es un punto y un segmento de recta. \n",
    "\n",
    "```r\n",
    "ggplot(data=mpg,mapping=aes(x=class,y=hwy)) +\n",
    "    geom_point(alpha=0.3)\n",
    "    stat_summary(color=\"red\")\n",
    "```\n",
    "\n",
    "<img src=\"im73.png\">"
   ]
  },
  {
   "cell_type": "markdown",
   "id": "976ac81e",
   "metadata": {},
   "source": [
    "Así, podemos graficar, por ejemplo la media:\n",
    "\n",
    "```r\n",
    "################################################################\n",
    "#######       En R       #######################################\n",
    "################################################################\n",
    "\n",
    "ggplot(data=mpg,mapping=aes(x=class,y=hwy)) +\n",
    "    geom_point(alpha=0.3) +\n",
    "    stat_summary(fun=mean,\n",
    "                 color=\"red\",\n",
    "                 size=0.5)\n",
    "```\n",
    "\n",
    "```python\n",
    "################################################################\n",
    "#######    En Python     #######################################\n",
    "################################################################\n",
    "\n",
    "ggplot(data=mpg,mapping=aes(x=\"class\",y=\"hwy\")) +\n",
    "    geom_point(alpha=0.3) +\n",
    "    stat_summary(fun_data=\"mean_se\",\n",
    "                 color=\"red\",\n",
    "                 size=0.5)\n",
    "```\n",
    "\n",
    "<img src=\"im74.png\">"
   ]
  },
  {
   "cell_type": "markdown",
   "id": "723733b7",
   "metadata": {},
   "source": [
    "O bien, lo podemos controlar desde las geometrías:\n",
    "\n",
    "```r\n",
    "################################################################\n",
    "#######       En R       #######################################\n",
    "################################################################\n",
    "\n",
    "ggplot(data=mpg,mapping=aes(x=class,y=hwy)) +\n",
    "  geom_point(alpha=0.3) +\n",
    "  geom_point(stat=\"summary\",\n",
    "             fun=mean,\n",
    "             color=\"red\",\n",
    "             size=3)\n",
    "```\n",
    "\n",
    "```python\n",
    "```python\n",
    "################################################################\n",
    "#######    En Python     #######################################\n",
    "################################################################\n",
    "\n",
    "ggplot(data=mpg,mapping=aes(x=\"class\",y=\"hwy\")) +\n",
    "  geom_point(alpha=0.3) +\n",
    "  geom_point(stat=\"summary\",\n",
    "             fun_y=np.mean,\n",
    "             color=\"red\",\n",
    "             size=3)\n",
    "```\n",
    "<img src=\"im75.png\">"
   ]
  },
  {
   "cell_type": "markdown",
   "id": "b86c14f0",
   "metadata": {},
   "source": [
    "## Aestésticas calculadas\n",
    "\n",
    "Ya sabemos que una transformación estadística transforma los datos y devuelve un valor. Este valor es gestionado en algún lugar y puedes accesar a él. \n",
    "\n",
    "Por ejemplo, cuando utilizamos una geometría de histograma (``geom_histogram``), que utiliza una estadística de bins por default (``stat_bin``) se nos generan cuatro valores: \n",
    "\n",
    "- ``count``: número de elementos en cada bin\n",
    "- ``density``: densidad de los elementos en cada bin, por lo que integra 1\n",
    "- ``ncount`` conteo en cada bin pero escalado al máximo=1. Es decir\n",
    "\n",
    "$$\\frac{\\mbox{#elementos en cada bin}}{\\max(\\mbox{#elementos en cada bin})}$$\n",
    "\n",
    "- ``ndensity`` densidad en cada bin pero escalado al máximo=1. \n",
    "\n",
    "Esto es lo que se conoce como **variables calculadas**. \n",
    "\n",
    "```\n",
    "?geom_histogram\n",
    "```\n",
    "\n",
    "Veamos unos ejemplos:\n",
    "\n",
    "```r\n",
    "ggplot(data=mpg,mapping=aes(x=displ)) +\n",
    "    geom_histogram()\n",
    "```\n",
    "\n",
    "<img src=\"im76.png\">\n",
    "\n",
    "Observemos que el eje Y presenta un \"count\" que nosotros no le indicamos. Esa es la variable calculada que está aplicando el ``stat_bin`` por default."
   ]
  },
  {
   "cell_type": "markdown",
   "id": "d118ba38",
   "metadata": {},
   "source": [
    "Esto es lo mismo que pedirle una aestética al eje Y basada en una columna calculada:\n",
    "\n",
    "```r\n",
    "ggplot(data=mpg,mapping=aes(x=displ)) +\n",
    "    geom_histogram(mapping=aes(y=..count..)) # En Python es \"..count..\"\n",
    "```\n",
    "\n",
    "```r\n",
    "ggplot(data=mpg,mapping=aes(x=displ)) +\n",
    "    geom_histogram(mapping=aes(y=stat(count))) # En Python es \"stat(count)\"\n",
    "```\n",
    "\n",
    "<img src=\"im77.png\">\n"
   ]
  }
 ],
 "metadata": {
  "kernelspec": {
   "display_name": "Python 3 (ipykernel)",
   "language": "python",
   "name": "python3"
  },
  "language_info": {
   "codemirror_mode": {
    "name": "ipython",
    "version": 3
   },
   "file_extension": ".py",
   "mimetype": "text/x-python",
   "name": "python",
   "nbconvert_exporter": "python",
   "pygments_lexer": "ipython3",
   "version": "3.11.4"
  }
 },
 "nbformat": 4,
 "nbformat_minor": 5
}
