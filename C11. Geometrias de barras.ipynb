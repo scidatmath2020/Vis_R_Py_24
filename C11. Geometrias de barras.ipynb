{
 "cells": [
  {
   "cell_type": "markdown",
   "id": "d39e1ef8",
   "metadata": {},
   "source": [
    "<img src=\"logo.png\">"
   ]
  },
  {
   "cell_type": "markdown",
   "id": "bc256d1b",
   "metadata": {},
   "source": [
    "# Geometrías de barras\n",
    "\n",
    "Hablemos ahora de las geometrías de barras. Un gráfico de barras es una representación gráfica de datos categóricos en la que las categorías se muestran en el eje horizontal (eje X), y la frecuencia o cantidad de cada categoría se representa mediante barras en el eje vertical (eje Y). La altura (o longitud, en el caso de barras horizontales) de cada barra es proporcional al valor que representa.\n",
    "\n",
    "Los gráficos de barras son útiles para comparar diferentes categorías o grupos de datos de manera clara y visualmente intuitiva.\n",
    "\n",
    "Es **importante** entender la diferencia entre los gráficos de barras y los histogramas. Aunque ambos trabajan con barras, recuerda que en el histograma representamos una variable continua\n",
    "\n",
    "De hecho, técnicamete hablando, ``geom_histogram`` tiene un stat de ``stat_bin()``, lo cual significa que *binea* la variable continua y *cuenta* cuántos elementos caen en cada bin, en tanto que ``geom_bar`` tiene un stat de ``stat_count()``, por lo cual simplemente *cuenta*. De hecho, es posible \"alimentar\" al ``geom_bar`` con una variabla continua, pero el resultado será algo extraño.\n"
   ]
  },
  {
   "cell_type": "markdown",
   "id": "29edb6ed",
   "metadata": {},
   "source": [
    "Para verlo, consideremos la tabla **tabla_bar.csv** del repositorio de datos que se muestra a continuación:\n",
    "\n",
    "| cat   |   val |\n",
    "|:------|------:|\n",
    "| e     |  0.6  |\n",
    "| d     |  0.57 |\n",
    "| e     |  0.08 |\n",
    "| d     |  0.04 |\n",
    "| d     |  0.64 |\n",
    "| a     |  0.93 |\n",
    "| e     |  0.6  |\n",
    "| e     |  0.56 |\n",
    "| a     |  0.53 |\n",
    "| a     |  0.99 |\n",
    "| c     |  0.51 |\n",
    "| b     |  0.68 |\n",
    "| b     |  0.6  |\n",
    "| c     |  0.24 |\n",
    "| b     |  0.26 |\n",
    "| d     |  0.73 |\n",
    "| c     |  0.45 |\n",
    "| e     |  0.18 |\n",
    "| b     |  0.75 |\n",
    "| b     |  0.1  |\n",
    "\n",
    "Hagamos un histograma coloreando de blanco los bordes de las barras:\n",
    "\n",
    "```r\n",
    "ggplot(data=tabla_bar,mapping=aes(x=val)) +\n",
    "    geom_histogram(color=\"white\")\n",
    "```\n",
    "\n",
    "<img src=\"im145.png\">"
   ]
  },
  {
   "cell_type": "markdown",
   "id": "de76bfff",
   "metadata": {},
   "source": [
    "Ahora hagamos un gráfico de barras con la misma información:\n",
    "\n",
    "```r\n",
    "ggplot(data=tabla_bar,mapping=aes(x=val)) +\n",
    "    geom_bar()\n",
    "```\n",
    "\n",
    "<img src=\"im146.png\">"
   ]
  },
  {
   "cell_type": "markdown",
   "id": "95f7537c",
   "metadata": {},
   "source": [
    "Como dijimos, lo más usual en los gráficos de barras es que la variable X sea categórica. Volvamos a la tabla **sismos.csv** de nuestro repositorio.\n",
    "\n",
    "En un gráfico de barras común, el stat es ``stat_count()``, de modo que únicamente se necesita dar el valor del eje X. El resultado nos dirá cuántos renglones de la tabla corresponden a cada categoría.\n",
    "\n",
    "```r\n",
    "ggplot(data=sismos,mapping=aes(x=Placas)) +\n",
    "    geom_bar()\n",
    "```\n",
    "\n",
    "<img src=\"im147.png\">\n",
    "\n"
   ]
  },
  {
   "cell_type": "markdown",
   "id": "81c34e99",
   "metadata": {},
   "source": [
    "## Tipos de gráficos de barras\n",
    "\n",
    "Ahora bien, en realidad existen dos maneras de crear nuestros gráficos de barras. Todo depende de la manera en que nuestras tablas estén estructuradas.\n",
    "\n",
    "Consideremos las siguientes dos tablas:\n",
    "\n",
    "Frutas:\n",
    "| tipo    |\n",
    "|---------|\n",
    "| manzana |\n",
    "| manzana |\n",
    "| naranja |\n",
    "| manzana |\n",
    "| naranja |\n",
    "\n",
    "Frutas_contadas:\n",
    "| tipo    |  total |\n",
    "|---------|--------|\n",
    "| manzana |      3 |\n",
    "| naranja |      2 |\n",
    "\n",
    "```r\n",
    "################################################################\n",
    "#######       En R       #######################################\n",
    "################################################################\n",
    "\n",
    "frutas = data.frame(tipo = c(\"manzana\", \"manzana\", \"naranja\", \"manzana\", \"naranja\"))\n",
    "frutas_contadas = data.frame(tipo = c(\"manzana\", \"naranja\"),total = c(3, 2))\n",
    "```\n",
    "\n",
    "```python\n",
    "################################################################\n",
    "#######    En Python     #######################################\n",
    "################################################################\n",
    "\n",
    "frutas = pd.DataFrame({'tipo': [\"manzana\", \"manzana\", \"naranja\", \"manzana\", \"naranja\"]})\n",
    "frutas_contadas = pd.DataFrame({'tipo': [\"manzana\", \"naranja\"],'total': [3, 2]})\n",
    "```"
   ]
  },
  {
   "cell_type": "markdown",
   "id": "7eb2608b",
   "metadata": {},
   "source": [
    "Como puedes observar, ambas tablas tienen exactamente la misma información, pero se presentan de manera diferente. La primera me da la información de cuántas frutas tengo, colocando en cada renglón una fruta. La segunda muestra directamente cuántos frutas hay de cada tipo.\n",
    "\n",
    "En otras palabra, en la segunda tabla tengo las clases de frutas de manera **contada** y en la primera no. De esta manera, cuando la información no se presenta con las clases contadas utilizaremos un ``geom_bar()``, que recordemos tiene un stat de ``stat_count()``. En cambio, cuando la información presenta las clases contadas utilizaremos un ``geom_col()``, cuyo stat es ``stat_identity``. En este segundo caso, obviamente requerimos indicar la columna de las clases (eje X) y **además la columna donde está el conteo** (el eje Y)."
   ]
  },
  {
   "cell_type": "markdown",
   "id": "5b7b1264",
   "metadata": {},
   "source": [
    "```r\n",
    "ggplot(data=frutas,mapping=aes(x=tipo)) +\n",
    "    geom_bar()\n",
    "```\n",
    "\n",
    "<img src=\"im148.png\">"
   ]
  },
  {
   "cell_type": "markdown",
   "id": "0f26bcbb",
   "metadata": {},
   "source": [
    "```r\n",
    "ggplot(data=frutas_contadas,mapping=aes(x=tipo,y=total)) +\n",
    "    geom_col()\n",
    "```\n",
    "\n",
    "<img src=\"im149.png\">"
   ]
  },
  {
   "cell_type": "markdown",
   "id": "487be0d9",
   "metadata": {},
   "source": [
    "## Dos categorías\n",
    "\n",
    "Muchas veces queremos hacer gráficos de barras para mostrar la frecuencia no solo de una categoría (como el tipo de frutas, o las placas tectónicas), sino que queremos cruzar la información con otra variable categórica.\n",
    "\n",
    "Por ejemplo, "
   ]
  }
 ],
 "metadata": {
  "kernelspec": {
   "display_name": "Python 3 (ipykernel)",
   "language": "python",
   "name": "python3"
  },
  "language_info": {
   "codemirror_mode": {
    "name": "ipython",
    "version": 3
   },
   "file_extension": ".py",
   "mimetype": "text/x-python",
   "name": "python",
   "nbconvert_exporter": "python",
   "pygments_lexer": "ipython3",
   "version": "3.11.4"
  }
 },
 "nbformat": 4,
 "nbformat_minor": 5
}
