{
 "cells": [
  {
   "cell_type": "markdown",
   "id": "12f3f617",
   "metadata": {},
   "source": [
    "<img src=\"logo.png\">"
   ]
  },
  {
   "cell_type": "markdown",
   "id": "54a1437a",
   "metadata": {},
   "source": [
    "# Gráficos de puntos\n",
    "\n",
    "Ya hemos tenido oportunidad de trabajar con geometrías de puntos. Pero veamos un poco más sobre ellas.\n",
    "\n",
    "- Sabemos que podemos hacer gráficos de puntos conectados. Basta con utilizar también geometrías lineales.\n",
    "\n",
    "- Además, cuando en un gráfico de puntos, el tamaño depende de alguna columna, se le llama gráfico de burbujas.\n",
    "\n",
    "Vamos a trabajar con la tabla **starwars_humanos.csv** que está en nuestro repositorio."
   ]
  },
  {
   "cell_type": "markdown",
   "id": "66862117",
   "metadata": {},
   "source": [
    "```r\n",
    "################################################################\n",
    "#######       En R       #######################################\n",
    "################################################################\n",
    "\n",
    "library(tidyverse)\n",
    "setwd(\"C:\\\\Users\\\\Usuario\\\\Documents\\\\scidata\\\\24_vis_r_py\\\\trabajos\")\n",
    "humanos = read.csv(\"starwars_humanos.csv\")\n",
    "```"
   ]
  },
  {
   "cell_type": "markdown",
   "id": "4a43531d",
   "metadata": {},
   "source": [
    "```python\n",
    "################################################################\n",
    "#######    En Python     #######################################\n",
    "################################################################\n",
    "\n",
    "import pandas as pd\n",
    "from plotnine import *\n",
    "import os\n",
    "\n",
    "os.chdir(\"C:\\\\Users\\\\Usuario\\\\Documents\\\\scidata\\\\24_vis_r_py\\\\trabajos\")\n",
    "humanos = pd.read_csv(\"starwars_humanos.csv\")\n",
    "```"
   ]
  },
  {
   "cell_type": "markdown",
   "id": "31ea6d60",
   "metadata": {},
   "source": [
    "Hagamos un gráfico de puntos simple del peso vs la estatura\n",
    "\n",
    "```r\n",
    "ggplot(data=humanos,mapping=aes(x=mass,y=height)) +\n",
    "  geom_point(size=4)\n",
    "```\n",
    "\n",
    "<img src=\"im41.png\">"
   ]
  },
  {
   "cell_type": "markdown",
   "id": "ab2dce98",
   "metadata": {},
   "source": [
    "Observemos que tenemos un problema de *superposición* (zonas donde los puntos se aglomeran).\n",
    "\n",
    "Para tratar este problema, tenemos dos opciones: utilizar transparencias o dar un *escalofrío* a los puntos:"
   ]
  },
  {
   "cell_type": "markdown",
   "id": "9ca37e5a",
   "metadata": {},
   "source": [
    "**Con transparencia**\n",
    "\n",
    "```r\n",
    "ggplot(data=humanos,mapping=aes(x=mass,y=height)) +\n",
    "  geom_point(size=4,alpha=0.5)\n",
    "```\n",
    "\n",
    "<img src=\"im42.png\">\n"
   ]
  },
  {
   "cell_type": "markdown",
   "id": "e409df4d",
   "metadata": {},
   "source": [
    "**Con escalofríos**\n",
    "\n",
    "```r\n",
    "ggplot(data=humanos,mapping=aes(x=mass,y=height)) +\n",
    "  geom_jitter(size=4)\n",
    "```\n",
    "\n",
    "<img src=\"im43.png\">"
   ]
  },
  {
   "cell_type": "markdown",
   "id": "5b0f3ccf",
   "metadata": {},
   "source": [
    "Para apreciar mejor los efectos anteriores, usemos ambas técnicas:\n",
    "\n",
    "```r\n",
    "ggplot(data=humanos,mapping=aes(x=mass,y=height)) +\n",
    "  geom_point(size=4,alpha=0.5) +\n",
    "  geom_jitter(alpha=0.5)\n",
    "```\n",
    "\n",
    "<img src=\"im44.png\">"
   ]
  },
  {
   "cell_type": "markdown",
   "id": "ec2319ae",
   "metadata": {},
   "source": [
    "Observemos la columna ``imc`` (índice de masa corporal), $imc=10000*\\frac{peso}{estatura^2}$\n",
    "\n",
    "```r\n",
    "humanos[\"imc\"]\n",
    "```\n",
    "\n",
    "Como podrá notarse, es una columna de tipo de datos continuos.\n",
    "\n",
    "A su vez, la columna ``categoria_imc`` es una columna de tipo discreto (sirve para clasificar).\n",
    "\n",
    "```r\n",
    "humanos[\"categoria_imc\"]\n",
    "```\n",
    "\n",
    "Estas clases se corresponenden a los siguientes intervalos:\n",
    "\n",
    "| Intervalo | Clase |\n",
    "|-----------|-----------|\n",
    "| (0,18.5)   | Bajo    |\n",
    "| [18.5,25)  | Normal  |\n",
    "| [25,30)    | Alto    |\n",
    "| [30,35)    | Obeso   |\n",
    "| [35,...)| Obesidad extrema|\n"
   ]
  },
  {
   "cell_type": "markdown",
   "id": "ca2a152e",
   "metadata": {},
   "source": [
    "## Coloreado con columna de tipo continuo\n",
    "\n",
    "Vamos a colorear respecto del IMC:\n",
    "\n",
    "```r\n",
    "ggplot(data=humanos,mapping=aes(x=mass,y=height)) +\n",
    "  geom_point(mapping=aes(color=imc),\n",
    "             size=4)\n",
    "```\n",
    "\n",
    "<img src=\"im45.png\">"
   ]
  },
  {
   "cell_type": "markdown",
   "id": "87653a33",
   "metadata": {},
   "source": [
    "Para el control de colores en el caso continuo, tenemos los siguientes opciones:\n",
    "\n",
    "**Definir nuestros valores bajos y altos**\n",
    "\n",
    "Podemos pedir los colores para los extremos de la columna\n",
    "\n",
    "```r\n",
    "### Utilizamos scale_color_gradient\n",
    "\n",
    "ggplot(data=humanos,mapping=aes(x=mass,y=height)) +\n",
    "  geom_point(mapping=aes(color=imc),\n",
    "             size=4) +\n",
    "  scale_color_gradient(low=\"green\",high=\"blue\")\n",
    "```\n",
    "\n",
    "<img src=\"im46.png\">"
   ]
  },
  {
   "cell_type": "markdown",
   "id": "538bf6e5",
   "metadata": {},
   "source": [
    "Además, podemos definir un color intermedio junto con el valor intermedio:\n",
    "\n",
    "```r\n",
    "## scale_color_gradient2\n",
    "#### Define color bajo, alto y medio\n",
    "\n",
    "ggplot(data=humanos,mapping=aes(x=mass,y=height)) +\n",
    "  geom_point(mapping=aes(color=imc),\n",
    "             size=4) +\n",
    "  scale_color_gradient2(low=\"green\",mid=\"red\",high=\"blue\",midpoint=27)\n",
    "```\n",
    "\n",
    "<img src=\"im47.png\">"
   ]
  },
  {
   "cell_type": "markdown",
   "id": "19b38e95",
   "metadata": {},
   "source": [
    "**Definir nuestra propia paleta**\n",
    "\n",
    "Podemos definir nuestros propios colores mediante una paleta\n",
    "\n",
    "```r\n",
    "################################################################\n",
    "#######       En R       #######################################\n",
    "################################################################\n",
    "\n",
    "mi_paleta = c(\"royalblue\",\"forestgreen\",\"gold\",\"darkorange\",\"firebrick\")\n",
    "\n",
    "ggplot(data=humanos,mapping=aes(x=mass,y=height)) +\n",
    "  geom_point(mapping=aes(color=imc),\n",
    "             size=4) +\n",
    "  scale_color_gradientn(colors=mi_paleta)\n",
    "```\n",
    "\n",
    "```python\n",
    "################################################################\n",
    "#######    En Python     #######################################\n",
    "################################################################\n",
    "\n",
    "mi_paleta = [\"royalblue\",\"forestgreen\",\"gold\",\"darkorange\",\"firebrick\"]\n",
    "\n",
    "(\n",
    "ggplot(data=humanos,mapping=aes(x=\"mass\",y=\"height\")) +\n",
    "  geom_point(mapping=aes(color=\"imc\"),\n",
    "             size=4) +\n",
    "  scale_color_gradientn(colors=mi_paleta)\n",
    ")\n",
    "```\n",
    "\n",
    "<img src=\"im48.png\">"
   ]
  },
  {
   "cell_type": "markdown",
   "id": "51a1aac6",
   "metadata": {},
   "source": [
    "**En R hay otra opción**\n",
    "\n",
    "En **R** tenemos una técnica más: utilizar paletas preexistentes.\n",
    "\n",
    "Estas son rainbow, heat.colors, terrain.colors, topo.colors y cm.colors\n",
    "\n",
    "```r\n",
    "################################################################\n",
    "#######       En R       #######################################\n",
    "################################################################\n",
    "\n",
    "ggplot(data=humanos,mapping=aes(x=mass,y=height)) +\n",
    "  geom_point(mapping=aes(color=imc),\n",
    "             size=4) +\n",
    "  scale_color_gradientn(colors=heat.colors(3)) #el número 3 significa utilizar tres colores de esa paleta\n",
    "```\n",
    "\n",
    "<img src=\"im49.png\">"
   ]
  },
  {
   "cell_type": "markdown",
   "id": "c75ca8cd",
   "metadata": {},
   "source": [
    "## Coloreado con columna de tipo discreto\n",
    "\n",
    "Vamos a colorear respecto de ``categoria_imc``:\n",
    "\n",
    "```r\n",
    "ggplot(data=humanos,mapping=aes(x=mass,y=height)) +\n",
    "  geom_point(mapping=aes(color=categoria_imc),\n",
    "             size=4) \n",
    "```\n",
    "\n",
    "<img src=\"im50.png\">"
   ]
  },
  {
   "cell_type": "markdown",
   "id": "9f91d50c",
   "metadata": {},
   "source": [
    "Nuevamente, utilizando la técnica de crear nuestra propia paleta, podemos controlar los colores. Aunque en este caso utilizamos ``scale_color_manual(values=...)``\n",
    "\n",
    "```r\n",
    "################################################################\n",
    "#######       En R       #######################################\n",
    "################################################################\n",
    "\n",
    "mi_paleta = c(\"royalblue\",\"forestgreen\",\"gold\",\"darkorange\",\"firebrick\")\n",
    "\n",
    "ggplot(data=humanos,mapping=aes(x=mass,y=height)) +\n",
    "  geom_point(mapping=aes(color=categoria_imc),\n",
    "             size=4) +\n",
    "  scale_color_manual(values=mi_paleta)\n",
    "```\n",
    "\n",
    "```python\n",
    "################################################################\n",
    "#######    En Python     #######################################\n",
    "################################################################\n",
    "\n",
    "mi_paleta = [\"royalblue\",\"forestgreen\",\"gold\",\"darkorange\",\"firebrick\"]\n",
    "\n",
    "(\n",
    "ggplot(data=humanos,mapping=aes(x=\"mass\",y=\"height\")) +\n",
    "  geom_point(mapping=aes(color=\"categoria_imc\"),\n",
    "             size=4) +\n",
    "  scale_color_manual(values=mi_paleta)\n",
    ")\n",
    "```\n",
    "\n",
    "<img src=\"im51.png\">"
   ]
  },
  {
   "cell_type": "markdown",
   "id": "4217f202",
   "metadata": {},
   "source": [
    "O bien, tal como sucedió con **R**, también podemos utilizar escalas predefinidas\n",
    "\n",
    "```r\n",
    "################################################################\n",
    "#######       En R       #######################################\n",
    "################################################################\n",
    "\n",
    "ggplot(data=humanos,mapping=aes(x=mass,y=height)) +\n",
    "  geom_point(mapping=aes(color=categoria_imc),\n",
    "             size=4) +\n",
    "  scale_color_manual(values=heat.colors(5))\n",
    "```\n",
    "<img src=\"im52.png\">"
   ]
  },
  {
   "cell_type": "markdown",
   "id": "acb4add1",
   "metadata": {},
   "source": [
    "**Importante.** Los colores en R y Python se pueden definir con formato hexadecimal. Es decir, algo como #F6E00C\n",
    "\n",
    "Siempre que utilices una columna discreta para el color, puedes definirla utilando dicha ventaja y **Power Point**\n",
    "\n",
    "```r\n",
    "################################################################\n",
    "#######       En R       #######################################\n",
    "################################################################\n",
    "\n",
    "paleta_calor = c(\"#F6E00C\",\"#FCB018\",\"#FA6310\",\"#FE4315\",\"#B21D16\")\n",
    "```\n",
    "\n",
    "```python\n",
    "################################################################\n",
    "#######    En Python     #######################################\n",
    "################################################################\n",
    "\n",
    "paleta_calor = [\"#F6E00C\",\"#FCB018\",\"#FA6310\",\"#FE4315\",\"#B21D16\"]\n",
    "```"
   ]
  },
  {
   "cell_type": "markdown",
   "id": "7f945ae1",
   "metadata": {},
   "source": [
    "**Orden de las categorías con datos categóricos**\n",
    "\n",
    "Como puede verse en los códigos anteriores, la leyenda de ``categoria_imc`` no aparece ordenada (nos gustaría visualizar desde la categoría baja hasta la obesidad extrema).\n",
    "\n",
    "Para controlar esto, podemos decirle tanto a R como Python cómo queremos que tome el orden explícito en la columna de ``categoría_imc``\n",
    "\n",
    "```r\n",
    "################################################################\n",
    "#######       En R       #######################################\n",
    "################################################################\n",
    "\n",
    "humanos$categoria_imc <- factor(humanos$categoria_imc, \n",
    "                                levels = c(\"bajo\",\n",
    "                                           \"normal\",\n",
    "                                           \"alto\",\n",
    "                                           \"obeso\",\n",
    "                                           \"obesidad extrema\"), \n",
    "                                ordered = TRUE)\n",
    "\n",
    "ggplot(data=humanos,mapping=aes(x=mass,y=height)) +\n",
    "  geom_point(mapping=aes(color=categoria_imc),\n",
    "             size=4) +\n",
    "  scale_color_manual(values=heat.colors(5),\n",
    "                     name=\"Categoría IMC\")\n",
    "```\n",
    "\n",
    "```python\n",
    "################################################################\n",
    "#######    En Python     #######################################\n",
    "################################################################\n",
    "\n",
    "humanos['categoria_imc'] = pd.Categorical(humanos['categoria_imc'], \n",
    "                                          categories=[\"bajo\",\n",
    "                                                      \"normal\",\n",
    "                                                      \"alto\",\n",
    "                                                      \"obeso\",\n",
    "                                                      \"obesidad extrema\"],\n",
    "                                          ordered=True)\n",
    "\n",
    "(\n",
    "ggplot(data=humanos,mapping=aes(x=\"mass\",y=\"height\")) +\n",
    "  geom_point(mapping=aes(color=\"categoria_imc\"),\n",
    "             size=4) +\n",
    "  scale_color_manual(values= paleta_calor) #la paleta calor la construimos mas arriba\n",
    ")\n",
    "```\n",
    "\n",
    "<img src=\"im53.png\">"
   ]
  }
 ],
 "metadata": {
  "kernelspec": {
   "display_name": "Python 3 (ipykernel)",
   "language": "python",
   "name": "python3"
  },
  "language_info": {
   "codemirror_mode": {
    "name": "ipython",
    "version": 3
   },
   "file_extension": ".py",
   "mimetype": "text/x-python",
   "name": "python",
   "nbconvert_exporter": "python",
   "pygments_lexer": "ipython3",
   "version": "3.11.4"
  }
 },
 "nbformat": 4,
 "nbformat_minor": 5
}
