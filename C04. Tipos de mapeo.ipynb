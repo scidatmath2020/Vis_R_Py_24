{
 "cells": [
  {
   "cell_type": "markdown",
   "id": "25ca54bb",
   "metadata": {},
   "source": [
    "<img src=\"logo.png\">"
   ]
  },
  {
   "cell_type": "markdown",
   "id": "afed58d0",
   "metadata": {},
   "source": [
    "# Tipos de mapeo\n",
    "\n",
    "## Mapeando los datasets\n",
    "\n",
    "Como ya hemos visto, uno de los objetos indispensables para realizar los gráficos son, obviamente, los datos. Esto es, la **data**.\n",
    "\n",
    "Sabemos que **data** debe ser una tabla (lo que se conoce como un *dataframe*). La data es necesaria en la gráfica, pero puede ser independiente del resto de la gráfica. Es decir, debemos poder construir gráficos y luego poder cambiar la data sin alterar el resto del gráfico.\n",
    "\n",
    "Una de la preguntas que te puedes hacer es dónde colocar la data dentro del código. Si lo recuerdas, en la sección anterior teníamos la siguiente estructura:\n",
    "\n",
    "``ggplot(data=tabla,mapping=aes(...))+geometría(...)``\n",
    "\n",
    "Es decir, alimentabamos el gráfico con los datos de ``tabla`` desde el llamado de la función ``ggplot``. **Esto implica que, por defecto, el resto de componentes y capas del gráfico utilizarán esta data y estas aestéticas para su construcción.** Dicho de otra manera, en el siguiente código\n",
    "\n",
    "```r\n",
    "ggplot(data=tabla,mapping=aes(...)) + \n",
    "    geometría1(...) +\n",
    "    geometría2(...) +\n",
    "    otras_capas(...)\n",
    "```\n",
    "\n",
    "todas las geometrías y todas las capas trabajarán con la información proporcionada en la función ``ggplot``. Esto puede presentar algunos inconvenientes. Por ejemplo, si alguna de las geometrías no acepta alguna de las estéticas, tendremos un error.\n",
    "\n",
    "Otra manera de colocar la información para alimentar el gráfico es a través de las capas directamente.\n",
    "\n",
    "```r\n",
    "ggplot() + geometria1(data=tabla,mapping=aes(...))\n",
    "```\n",
    "\n",
    "Esto implica que no hay data ni aestéticas por default para alimentar a todas las capas, así que si defines nuevas capas, debes especificar *sus propios alimentos*.\n",
    "\n"
   ]
  },
  {
   "cell_type": "markdown",
   "id": "ec41b72e",
   "metadata": {},
   "source": [
    "```r\n",
    "## Alimentando por default\n",
    "ggplot(data=mpg,mapping=aes(x=displ,y=hwy)) +\n",
    "    geom_point() +\n",
    "    geom_line()\n",
    "```\n",
    "\n",
    "<img src=\"im30.png\">\n",
    "\n",
    "\n",
    "```r\n",
    "## Alimentando cada las capa\n",
    "ggplot() +\n",
    "    geom_point(data=mpg,mapping=aes(x=displ,y=hwy)) +\n",
    "    geom_line(data=mpg,mapping=aes(x=displ,y=hwy))\n",
    "```\n",
    "\n",
    "<img src=\"im30.png\">"
   ]
  },
  {
   "cell_type": "markdown",
   "id": "a382b69c",
   "metadata": {},
   "source": [
    "¿Cómo elegimos desde dónde alimentar al gráfico?\n",
    "\n",
    "De manera natural:\n",
    "-  Si únicamente trabajarás con una sola tabla en la gráfica, te conviene declararla en la función ``ggplot``\n",
    "-  Por el contrario, si trabajarás con diferentes tablas en la misma gráfica, te conviene alimentar directamente en las capas.\n",
    "\n",
    "Sin embargo, **ten cuidado**. A veces el resultado puede ser muy diferente.\n",
    "\n",
    "```r\n",
    "ggplot(data=mpg,mapping=aes(x=displ,y=hwy,color=class)) +\n",
    "    geom_point() +\n",
    "    geom_smooth(method=\"lm\",se=FALSE)\n",
    "```\n",
    "\n",
    "<img src=\"im31.png\">\n",
    "\n",
    "```r\n",
    "ggplot(data=mpg,mapping=aes(x=displ,y=hwy)) +\n",
    "    geom_point(mapping=aes(color=class)) +\n",
    "    geom_smooth(method=\"lm\",se=FALSE)\n",
    "```\n",
    "\n",
    "<img src=\"im32.png\">"
   ]
  },
  {
   "cell_type": "markdown",
   "id": "19c5c322",
   "metadata": {},
   "source": [
    "Finalmente, qué sucede si hemos definido los datos y las aestéticas por default y luego queremos cambiar algunos de ellos.\n",
    "\n",
    "```r\n",
    "ggplot(data=mpg,mapping=aes(x=displ,y=hwy,color=hwy)) +\n",
    "    geom_point()\n",
    "```\n",
    "\n",
    "<img src=\"im33.png\">\n",
    "\n",
    "**Añadir aestéticas**\n",
    "\n",
    "```r\n",
    "ggplot(data=mpg,mapping=aes(x=displ,y=hwy,color=hwy)) +\n",
    "    geom_point(mapping=aes(size=hwy))\n",
    "```\n",
    "\n",
    "<img src=\"im34.png\">\n",
    "\n",
    "**Reescribir las aestéticas**\n",
    "\n",
    "```r\n",
    "ggplot(data=mpg,mapping=aes(x=displ,y=hwy,color=hwy)) +\n",
    "    geom_point(mapping=aes(x=class))\n",
    "```\n",
    "\n",
    "<img src=\"im35.png\">\n",
    "\n"
   ]
  },
  {
   "cell_type": "markdown",
   "id": "b48d85d1",
   "metadata": {},
   "source": [
    "## Ajuste vs Mapeado\n",
    "\n",
    "Aunque ya hemos platicado qué son las aestéticas (propiedades visuales que dependen de las columnas), conviene dejarlo más en claro:\n",
    "\n",
    "- Hacemos mapeado cuando tomamos una columna para utilizarla como aestética para hacer un efecto visual.\n",
    "- Hacemos ajuste (setting) cuando el efecto visual no depende de una columna, sino que tiene un valor *constante*.\n",
    "\n",
    "```r\n",
    "ggplot(data=mpg, mapping=aes(x=displ,y=hwy)) +\n",
    "    geom_point(mapping=aes(color=hwy),\n",
    "               size=3)\n",
    "```\n",
    "\n",
    "<img src=\"im36.png\">\n",
    "\n",
    "```r\n",
    "ggplot(data=mpg, mapping=aes(x=displ,y=hwy)) +\n",
    "    geom_point(color=\"darkblue\",\n",
    "               size=3)\n",
    "```\n",
    "\n",
    "<img src=\"im37.png\">"
   ]
  }
 ],
 "metadata": {
  "kernelspec": {
   "display_name": "Python 3 (ipykernel)",
   "language": "python",
   "name": "python3"
  },
  "language_info": {
   "codemirror_mode": {
    "name": "ipython",
    "version": 3
   },
   "file_extension": ".py",
   "mimetype": "text/x-python",
   "name": "python",
   "nbconvert_exporter": "python",
   "pygments_lexer": "ipython3",
   "version": "3.11.4"
  }
 },
 "nbformat": 4,
 "nbformat_minor": 5
}
