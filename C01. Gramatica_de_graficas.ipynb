{
 "cells": [
  {
   "cell_type": "markdown",
   "id": "f2797efa",
   "metadata": {},
   "source": [
    "<img src=\"logo.png\">"
   ]
  },
  {
   "cell_type": "markdown",
   "id": "47928862",
   "metadata": {},
   "source": [
    "# La Gramática de las gráficas (GG)\n",
    "\n",
    "En este capítulo estudiaremos el enfoque que emplearemos a lo largo del curso: la Gramática de las gráficas.\n",
    "\n",
    "Este, se trata del concepto de *programación orientada a funciones* aplicado a la construcción de gráficas."
   ]
  },
  {
   "cell_type": "markdown",
   "id": "d247cd91",
   "metadata": {},
   "source": [
    "## Preliminares\n",
    "\n",
    "Hablemos de los pasos generales para realizar cualquier tipo de gráficas. Como verás, este es un tema más teorico que práctico pero es crucial para poder entender posteriormente cómo trabajar en **ggplot2** y **plotnine**.\n",
    "\n",
    "Imagina que tenemos la siguiente tabla\n",
    "\n",
    "| A | B | C | D |\n",
    "|-----------|-----------|-----------|-----------|\n",
    "| 2    | 3  | 4  | a  |\n",
    "| 1    | 2  | 1  | a  |\n",
    "| 4    | 5  | 15 | b  |\n",
    "| 9    | 12  | 8  | b  |\n",
    "\n",
    "Tiene cuatro *variables* (las columnas) y cuatro *observaciones* (las filas). Hagamos un *gráfico de puntos de A vs C donde cada la forma de cada punto dependa de la columna D*\n",
    "\n",
    "¿Qués es un gráfico de puntos? Se refiere a dibujar puntos en el plano cartesiano donde cada punto es un renglón de la tabla, siendo *A* su coordenada horizontal (eje X) y *C* su coordenada vertical (eje Y). Además, los renglones que tengan el mismo valor en la columna D deben representarse con la misma figura.\n",
    "\n",
    "<img src=\"im01.png\">\n",
    "\n"
   ]
  },
  {
   "cell_type": "markdown",
   "id": "cb39188d",
   "metadata": {},
   "source": [
    "Como observaste, nos tuvimos que observar en ciertas columnas que fueron **mapeadas** a las posiciones horizontal y vertical y a la forma. Esto es lo que se conoce como **aestéticas**: propiedades que se perciben en la gráfica y que dependen directamente de los valores en la tabla.\n",
    "\n",
    "Después de esto, nos concentramos en el tipo de gráfico que requerimos, lo cual es llamado **geometría**, que en este caso es un gráfico de puntos: lod datos se representan como puntos.\n",
    "\n",
    "Una vez hecho esto, también podemos decidir la escala en que se presentan los datos, aplicar alguna transformación estadística, elegir un sistema coordenado y finalmente construir facetas."
   ]
  },
  {
   "cell_type": "markdown",
   "id": "46e5f97a",
   "metadata": {},
   "source": [
    "## La gramática de los gráficos.\n",
    "\n",
    "Comenzamos con una discusión de un marco teórico para la visualización de datos conocido como **la gramática de los gráficos**. \n",
    "\n",
    "Este marco sirve como base para el paquete ``ggplot2`` que usaremos ampliamente. Piensa en cómo construimos y formamos oraciones al combinar diferentes elementos, como sustantivos, verbos, artículos, sujetos, objetos, etc. \n",
    "\n",
    "No podemos simplemente combinar estos elementos en un orden arbitrario; debemos hacerlo siguiendo un conjunto de reglas conocido como *gramática lingüística*. De manera similar a una gramática lingüística, la gramática de gráficos define un conjunto de reglas para construir gráficos estadísticos combinando diferentes tipos de capas. \n",
    "\n",
    "### Componentes de la gramática\n",
    "\n",
    "En resumen, la gramática nos dice que *un gráfico estadístico es un __mapeo__ de variables de __datos__ a atributos __estéticos__ de objetos __geométricos__*.\n",
    "\n",
    "Específicamente, podemos dividir un gráfico en los siguientes tres componentes esenciales:\n",
    "\n",
    "* **data**. Es el conjunto de datos que contiene las variables de interés (el dataframe).\n",
    "* **geom**. Es el objeto geométrico en cuestión. Esto se refiere al tipo de objeto que podemos observar en una trama. Por ejemplo: puntos, líneas y barras.\n",
    "* **aes**. Son los atributos estéticos del objeto geométrico. Por ejemplo, posición x/y, color, forma y tamaño. Los atributos estéticos se asignan a variables en el conjunto de datos.\n",
    "\n",
    "Analicemos la gramática con un ejemplo."
   ]
  },
  {
   "cell_type": "markdown",
   "id": "4e44932d",
   "metadata": {},
   "source": [
    "---\n",
    "---\n",
    "**Ejemplo 2.1.1) El dataframe sismos**\n",
    "\n",
    "Dentro de nuestro repositorio de datos, tenemos una tabla llamada [sismos.csv](https://github.com/scidatmath2020/CDD_R_2022/blob/main/data/sismos.txt). En ella se presenta información geotectónica y de magnitud y profundidad de los sismos en México desde enero de 1900. Podemos observar primeros 10 registros en la siguiente tabla\n",
    "\n",
    "|Fecha      |Hora     | Magnitud| Latitud| Longitud| Profundidad|Referencia.de.localizacion                  |municipio              |entidad |zona     | mes|placas       |\n",
    "|:----------|:--------|--------:|-------:|--------:|-----------:|:-------------------------------------------|:----------------------|:-------|:--------|---:|:------------|\n",
    "|20/01/1900 |00:33:30 |      7.4|      20|     -105|          33|71 km al NOROESTE de AUTLAN DE NAVARRO, JAL |AUTLAN DE NAVARRO, JAL |JAL     |Oeste    |   1|Rivera       |\n",
    "|16/05/1900 |14:12:00 |      6.9|      20|     -105|          33|71 km al NOROESTE de AUTLAN DE NAVARRO, JAL |AUTLAN DE NAVARRO, JAL |JAL     |Oeste    |   5|Rivera       |\n",
    "|05/03/1901 |04:45:00 |      6.9|      25|     -110|          33|100 km al NORESTE de LA PAZ, BCS            |LA PAZ, BCS            |BCS     |Noroeste |   3|Pacífico     |\n",
    "|08/12/1901 |20:17:00 |      7.0|      26|     -110|          33|83 km al OESTE de AHOME, SIN                |AHOME, SIN             |SIN     |Noroeste |  12|Norteamérica |\n",
    "\n",
    "\n",
    "Cada fila corresponde a un sismo detectado. Para cada una de estas filas tenemos algunas columnas de interés:\n",
    "\n",
    "* **Fecha**. Fecha de ocurrencia.\n",
    "* **Hora**. Hora de ocurrencia (hora de CDMX).\n",
    "* **Magnitud**. Escala de Richter\n",
    "* **Latitud**. Latitud de ocurrencia.\n",
    "* **Longitud**. Longitud de ocurrencia.\n",
    "* **Profundidad**. Profundidad en kilómetros.\n",
    "* **municipio**. Municipio donde fue detectado.\n",
    "* **entidad**. Entidad de la república donde fue detectado.\n",
    "* **zona**. Zona geográfica a la cual pertenece la entidad.\n",
    "\n",
    "* **placas**. Placa continental  \n",
    "\n",
    "Considera ahora la siguiente figura, donde se representan la magnitud, latitud, longitud, y zona\n"
   ]
  },
  {
   "cell_type": "markdown",
   "id": "7e1bf98a",
   "metadata": {},
   "source": [
    "![imagenes](sismos_zona.png)"
   ]
  },
  {
   "cell_type": "markdown",
   "id": "e7cc16f3",
   "metadata": {},
   "source": [
    "Analicemos esta gráfica a través de la gramática de los gráficos.\n",
    "\n",
    "1. La columna **Longitud** de la ``data`` ha sido mapeada al atributo estético ``aes`` de la posición ``x`` de  de los puntos.\n",
    "2. La columna **Latitud** de la ``data`` ha sido mapeada al atributo estético ``aes`` de la posición ``y`` de  de los puntos.\n",
    "3. La columna **Magnitud** de la ``data`` ha sido mapeada al atributo estético ``aes`` tamaño de los puntos.\n",
    "3. La columna **zona** de la ``data`` ha sido mapeada al atributo estético ``aes`` color de los puntos.\n",
    "---\n",
    "---"
   ]
  },
  {
   "cell_type": "markdown",
   "id": "dec74076",
   "metadata": {},
   "source": [
    "## ggplot2 y plotnine\n",
    "\n",
    "En este curso, utilizaremos los paquetes ``ggplot2`` y ``plotnine`` para la visualización de datos, que son una implementación de la gramática de gráficos para **R** y **Python**. Como se pudo ver anteriormente, gran parte de la sección anterior se escribió en una fuente tipo código de computadora. Esto se debe a que los diversos componentes de la gramática de gráficos se especifican en la función ``ggplot()`` incluida en ambos paquetes. A los efectos de este curso, siempre proporcionaremos la función ``ggplot()`` con los siguientes argumentos (es decir, entradas) como mínimo:\n",
    "\n",
    "* El dataframe donde existen las variables: el argumento de ``data``.\n",
    "* El mapeo de las variables a los atributos estéticos: el argumento ``mapping`` que especifica los atributos estéticos ``aes`` involucrados.\n",
    "\n",
    "Después de haber especificado estos componentes, agregamos capas al gráfico usando el signo ``+``. La capa más esencial para agregar a un gráfico es la capa que especifica qué tipo de objeto geométrico ``geom`` queremos que involucre el gráfico: puntos, líneas, barras y otros. Otras capas que podemos agregar a un gráfico incluyen el título del gráfico, las etiquetas de los ejes, los temas visuales para los gráficos y las facetas."
   ]
  },
  {
   "cell_type": "markdown",
   "id": "ac5d4934",
   "metadata": {},
   "source": [
    "## El 5NG (five named graphs)\n",
    "\n",
    "Para simplificar las cosas en este curso, solo nos centraremos en cinco tipos diferentes de gráficos, cada uno con un nombre común. Llamamos a estos \"los cinco gráficos con nombre\" o en forma abreviada, el 5NG:\n",
    "\n",
    "* Gráficos de puntos\n",
    "* Gráficos de línea\n",
    "* Histogramas\n",
    "* Diagramas de caja\n",
    "* Gráficos de barras\n",
    "\n",
    "También presentaremos algunas variaciones de estos gráficos, pero con este repertorio básico de cinco gráficos en tu caja de herramientas, puedes visualizar una amplia gama de diferentes tipos de variables. Ten en cuenta que ciertas gráficas solo son apropiadas para variables categóricas, mientras que otras solo son apropiadas para variables numéricas."
   ]
  }
 ],
 "metadata": {
  "kernelspec": {
   "display_name": "Python 3 (ipykernel)",
   "language": "python",
   "name": "python3"
  },
  "language_info": {
   "codemirror_mode": {
    "name": "ipython",
    "version": 3
   },
   "file_extension": ".py",
   "mimetype": "text/x-python",
   "name": "python",
   "nbconvert_exporter": "python",
   "pygments_lexer": "ipython3",
   "version": "3.11.4"
  }
 },
 "nbformat": 4,
 "nbformat_minor": 5
}
