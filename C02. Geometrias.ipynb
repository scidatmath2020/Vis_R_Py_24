{
 "cells": [
  {
   "cell_type": "markdown",
   "id": "fb668ce2",
   "metadata": {},
   "source": [
    "<img src=\"logo.png\">"
   ]
  },
  {
   "cell_type": "markdown",
   "id": "768c0f8c",
   "metadata": {},
   "source": [
    "# Geometrías\n",
    "\n",
    "Las geometrías controlan el tipo de gráfico que vamos a crear.\n",
    "\n",
    "Pare ver cómo trabajan, utilizaremos la tabla mpg que se encuentra en nuestro repositorio: https://github.com/scidatmath2020/Vis_R_Py_24/blob/main/data/mpg.csv"
   ]
  },
  {
   "cell_type": "markdown",
   "id": "0ca7bc16",
   "metadata": {},
   "source": [
    "Hagamos lo siguiente:\n",
    "\n",
    "```python\n",
    "p = ggplot(data=mpg,mapping=aes(x=displ,y=hwy))\n",
    "p\n",
    "```"
   ]
  },
  {
   "cell_type": "markdown",
   "id": "7085997c",
   "metadata": {},
   "source": [
    "Observaremos que se nos despliega únicamente un lienzo en blanco, pues no hemos añadido ninguna geometría.\n",
    "\n",
    "<img src=\"im02.png\">"
   ]
  },
  {
   "cell_type": "markdown",
   "id": "c016f98d",
   "metadata": {},
   "source": [
    "Añadamos una geometría de puntos. Notemos que estamos mapeando la columna ``displ`` a la aestética ``x`` y la columna ``hwy`` a la aestética ``y``\n",
    "\n",
    "```python\n",
    "p + geom_point()\n",
    "```\n",
    "\n",
    "<img src=\"im03.png\">"
   ]
  },
  {
   "cell_type": "markdown",
   "id": "a59f493e",
   "metadata": {},
   "source": [
    "Cambiemos a una geometría de líneas:\n",
    "\n",
    "```python\n",
    "p + geom_line()\n",
    "```\n",
    "\n",
    "<img src=\"im04.png\">"
   ]
  },
  {
   "cell_type": "markdown",
   "id": "d39d5639",
   "metadata": {},
   "source": [
    "Incluso podemos añadir varias geometrías a la vez\n",
    "\n",
    "```python\n",
    "p + geom_point() + geom_line()\n",
    "```\n",
    "\n",
    "<img src=\"im05.png\">"
   ]
  },
  {
   "cell_type": "markdown",
   "id": "25056ed9",
   "metadata": {},
   "source": [
    "Existe otra geometría relacionada con la geometría de líneas, llamada geometría de trayectoria.\n",
    "\n",
    "```python\n",
    "p + geom_path()\n",
    "```\n",
    "\n",
    "<img src=\"im06.png\">"
   ]
  },
  {
   "cell_type": "markdown",
   "id": "e8cc829e",
   "metadata": {},
   "source": [
    "La diferencia entre ``geom_line`` y ``geom_path`` es que la primera une los datos mediante líneas en el orden del eje X, en tanto que la segunda los une en el sentido en que los encuentre en la tabla (es decir, une primer renglón con segundo, segundo con tercero, etc)\n",
    "\n",
    "Una geometría relacionada con la de trayectoria es la geometría de polígonos, la cual de alguna manera *rellena* ciertas zonas:\n",
    "\n",
    "```python\n",
    "p + geom_polygon()\n",
    "```\n",
    "\n",
    "<img src=\"im07.png\">"
   ]
  },
  {
   "cell_type": "markdown",
   "id": "3951845b",
   "metadata": {},
   "source": [
    "Ahora bien, no todas las geometrías utilizan las mismas aestéticas. Veamos, por ejemplo, la geometría de barras. El siguiente código nos generará un error.\n",
    "\n",
    "```python\n",
    "p + geom_bar()\n",
    "```\n",
    "\n",
    "Recordemos cómo hemos definido ``p``:\n",
    "```python\n",
    "ggplot(data=mpg,mapping=aes(x=displ,y=hwy))\n",
    "```\n",
    "\n",
    "El error que se nos presenta nos dice que la geometría de barras únicamente puede tener aestética ``x`` o ``y``, per no ambas. Esto se debe a que los gráficos de barras sirven para hacer conteos de alguna columna, de modo que nos basta con especificar solo una de estas aestéticas\n",
    "\n",
    "```python\n",
    "ggplot(data=mpg,mapping=aes(x=displ)) + geom_bar()\n",
    "ggplot(data=mpg,mapping=aes(y=hwy)) + geom_bar()\n",
    "```\n",
    "\n",
    "**Importante.** En el caso de plotnine, la aestética de la geometría de barras es ``x``\n",
    "\n",
    "<img src=\"im08.png\">"
   ]
  },
  {
   "cell_type": "markdown",
   "id": "a8e71cdc",
   "metadata": {},
   "source": [
    "En general, cada geometría tendrá sus propios efectos visuales, los cuales puedes utilizar como aestéticas y por lo tanto hacer que dependan de alguna columna. Usualmente son:\n",
    "\n",
    "* **x** coordenada del eje X\n",
    "* **y** coordenada del eje Y\n",
    "* **alpha** transparencia: 0 para ver sin transparencia y 1 para *desaparecer* el objeto (100% transparente).\n",
    "* **color** color, pero algunas geometrías lo toman como color del contorno\n",
    "* **fill** relleno\n",
    "* **group** agrupar\n",
    "* **shape** forma\n",
    "* **size** tamaño\n",
    "* **linetype** tipo de línea"
   ]
  },
  {
   "cell_type": "markdown",
   "id": "411cb186",
   "metadata": {},
   "source": [
    "```python\n",
    "### Un gráfico donde la forma de los puntos no depende de ninguna columna\n",
    "p + geom_point(shape=8)\n",
    "```\n",
    "\n",
    "<img src=\"im09.png\">"
   ]
  },
  {
   "cell_type": "markdown",
   "id": "35bf23c5",
   "metadata": {},
   "source": [
    "```python\n",
    "### Un gráfico donde la forma de los puntos depende de alguna columna\n",
    "p + geom_point(mapping=aes(shape=class))\n",
    "```\n",
    "\n",
    "<img src=\"im10.png\">"
   ]
  },
  {
   "cell_type": "markdown",
   "id": "e2103d9e",
   "metadata": {},
   "source": [
    "```python\n",
    "### Un gráfico de barras donde el contorno es negro y el relleno es amarillo\n",
    "ggplot(data=mpg,mapping=aes(x=displ)) + geom_bar(color=\"black\",fill=\"yellow\")\n",
    "```\n",
    "\n",
    "<img src=\"im11.png\">"
   ]
  },
  {
   "cell_type": "markdown",
   "id": "e504f35a",
   "metadata": {},
   "source": [
    "```python\n",
    "### Un gráfico de barras donde el contorno es negro y el relleno depende de una columna\n",
    "ggplot(data=mpg,mapping=aes(x=displ)) + geom_bar(mapping=aes(fill=class), color=\"black\")\n",
    "```\n",
    "\n",
    "<img src=\"im12.png\">"
   ]
  },
  {
   "cell_type": "markdown",
   "id": "ebfc0007",
   "metadata": {},
   "source": [
    "## Guardado de gráficas\n",
    "\n",
    "Para guardar una gráfica contamos con la función ``ggsave()`` cuya sintaxis completa es\n",
    "\n",
    "```r\n",
    "# En R\n",
    "ggsave(filename,plot,scale,width,height,units,dpi)\n",
    "```\n",
    "\n",
    "```python\n",
    "# En Python\n",
    "ggsave(filename,self,width,height,units,dpi)\n",
    "```\n",
    "\n",
    "Donde\n",
    "\n",
    "* ``filename`` es el nombre con el cual vas a guardar el archivo. Puede incluir las extensiones .eps, .tex, .pdf, .png, .jpg, .bmp. Por ejemplo ``filename=\"mi_grafico.png\"``\n",
    "* ``plot`` o ``self`` es el objeto que se va a guardar\n",
    "* ``scale`` es la escala. Por defecto es 1.\n",
    "* ``units`` puede ser in, cm, mm o px\n",
    "* ``dpi`` para la resolución.\n"
   ]
  }
 ],
 "metadata": {
  "kernelspec": {
   "display_name": "Python 3 (ipykernel)",
   "language": "python",
   "name": "python3"
  },
  "language_info": {
   "codemirror_mode": {
    "name": "ipython",
    "version": 3
   },
   "file_extension": ".py",
   "mimetype": "text/x-python",
   "name": "python",
   "nbconvert_exporter": "python",
   "pygments_lexer": "ipython3",
   "version": "3.11.4"
  }
 },
 "nbformat": 4,
 "nbformat_minor": 5
}
